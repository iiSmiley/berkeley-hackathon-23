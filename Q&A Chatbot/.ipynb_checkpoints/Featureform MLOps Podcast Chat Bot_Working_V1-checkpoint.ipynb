{
 "cells": [
  {
   "cell_type": "markdown",
   "id": "423f0449",
   "metadata": {},
   "source": [
    "# Featureform MLOps Podcast Chatbot\n",
    "\n",
    "This is an example of building a chatbot that contextualized with statements from the MLOps Weekly Podcast\n",
    "\n",
    "## Requirements\n",
    "\n",
    "* Python 3.7+\n",
    "* `.env` file with one or both sets of credentials (visit [Pinecone](https://www.pinecone.io/) and/or [Weaviate](https://weaviate.io/) for instructions on creating an account and getting credentials):\n",
    "```\n",
    "# Pinecone\n",
    "\n",
    "PINECONE_PROJECT_ID=\n",
    "PINECONE_ENVIRONMENT=\n",
    "PINECONE_API_KEY=\n",
    "\n",
    "# Weaviate\n",
    "\n",
    "WEAVIATE_URL=\n",
    "WEAVIATE_API_KEY=\n",
    "\n",
    "# OpenAI\n",
    "\n",
    "You'll need to set your OpenAI key towards the bottom of this example, you'll also want to install the openai PyPI library using pip.\n",
    "```\n",
    "* [`python-dotenv 1.0.0`](https://pypi.org/project/python-dotenv/)\n",
    "* [Topic Labeled News Dataset](https://www.kaggle.com/datasets/kotartemiy/topic-labeled-news-dataset)\n",
    "* Featureform installed:\n",
    "```shell\n",
    "pip install featureform\n",
    "```\n",
    "* Hugging Face [`sentence-transformers`](https://huggingface.co/sentence-transformers) installed:\n",
    "```\n",
    "pip install sentence-transformers\n",
    "```"
   ]
  },
  {
   "cell_type": "markdown",
   "id": "56bf4382",
   "metadata": {},
   "source": [
    "## Step  1. Register Source\n",
    "\n",
    "`data/files` is a directory of CSV files, which use `;` as a delimiter and hold transcripts of recent episodes of the MLOps podcast. Each row is a comment made by a speaker and has the following columns:\n",
    "\n",
    "* Speaker\n",
    "* Start time\n",
    "* End time\n",
    "* Duration\n",
    "* Text\n",
    "* filename\n",
    "\n",
    "We'll register the entire directory at once."
   ]
  },
  {
   "cell_type": "code",
   "execution_count": 1,
   "id": "845783c1",
   "metadata": {},
   "outputs": [
    {
     "name": "stderr",
     "output_type": "stream",
     "text": [
      "TqdmExperimentalWarning: Using `tqdm.autonotebook.tqdm` in notebook mode. Use `tqdm.tqdm` instead to force console mode (e.g. in jupyter console)\n"
     ]
    }
   ],
   "source": [
    "import featureform as ff\n",
    "from featureform import local\n",
    "\n",
    "client = ff.Client(local=True)"
   ]
  },
  {
   "cell_type": "markdown",
   "id": "f5a85622",
   "metadata": {},
   "source": [
    "**NOTE:** We'll create an instance of the client to register resources as we define them."
   ]
  },
  {
   "cell_type": "code",
   "execution_count": 2,
   "id": "288939b7",
   "metadata": {},
   "outputs": [],
   "source": [
    "lectures = local.register_directory(\n",
    "    name=\"notes\",\n",
    "    path=\"data/files\",\n",
    "    description=\"CS70 Notes\",\n",
    ")"
   ]
  },
  {
   "cell_type": "code",
   "execution_count": 3,
   "id": "88a1d1e3",
   "metadata": {},
   "outputs": [
    {
     "name": "stdout",
     "output_type": "stream",
     "text": [
      "Applying Run: passionate_sinoussi\n",
      "Creating user default_user \n",
      "Creating provider local-mode \n",
      "Creating source notes  passionate_sinoussi\n"
     ]
    },
    {
     "data": {
      "text/html": [
       "<div>\n",
       "<style scoped>\n",
       "    .dataframe tbody tr th:only-of-type {\n",
       "        vertical-align: middle;\n",
       "    }\n",
       "\n",
       "    .dataframe tbody tr th {\n",
       "        vertical-align: top;\n",
       "    }\n",
       "\n",
       "    .dataframe thead th {\n",
       "        text-align: right;\n",
       "    }\n",
       "</style>\n",
       "<table border=\"1\" class=\"dataframe\">\n",
       "  <thead>\n",
       "    <tr style=\"text-align: right;\">\n",
       "      <th></th>\n",
       "      <th>filename</th>\n",
       "      <th>body</th>\n",
       "    </tr>\n",
       "  </thead>\n",
       "  <tbody>\n",
       "    <tr>\n",
       "      <th>0</th>\n",
       "      <td>Note_0.csv</td>\n",
       "      <td>Lecture;Topic;Section;Text\\n0;Review of Sets;I...</td>\n",
       "    </tr>\n",
       "  </tbody>\n",
       "</table>\n",
       "</div>"
      ],
      "text/plain": [
       "     filename                                               body\n",
       "0  Note_0.csv  Lecture;Topic;Section;Text\\n0;Review of Sets;I..."
      ]
     },
     "execution_count": 3,
     "metadata": {},
     "output_type": "execute_result"
    }
   ],
   "source": [
    "client.dataframe(lectures)"
   ]
  },
  {
   "cell_type": "code",
   "execution_count": 4,
   "id": "dcdb0f5a",
   "metadata": {},
   "outputs": [
    {
     "name": "stdout",
     "output_type": "stream",
     "text": [
      "\u001b[31m\u001b[1mWARNING: This is a development server. Do not use it in a production deployment. Use a production WSGI server instead.\u001b[0m\n",
      " * Serving Flask app 'featureform.cli'\n",
      " * Debug mode: off\n",
      "\u001b[31m\u001b[1mWARNING: This is a development server. Do not use it in a production deployment. Use a production WSGI server instead.\u001b[0m\n",
      " * Running on http://127.0.0.1:3000\n",
      "\u001b[33mPress CTRL+C to quit\u001b[0m\n",
      "^C\n"
     ]
    }
   ],
   "source": [
    "!featureform dash"
   ]
  },
  {
   "cell_type": "markdown",
   "id": "bec0f7fb",
   "metadata": {},
   "source": [
    "## Step 2. Transform Transcripts\n",
    "\n",
    "When registering a directory, files are converted into a table with columns `\"filename\"` and `\"body\"`. This is helpful for avoiding the situation where we need to register many files; however, in our case, we'll need to process this table to get it ready for vectorization."
   ]
  },
  {
   "cell_type": "code",
   "execution_count": 5,
   "id": "4f8b5f2d",
   "metadata": {},
   "outputs": [],
   "source": [
    "@local.df_transformation(inputs=[lectures])\n",
    "def process_lecture_files(dir_df):\n",
    "    from io import StringIO\n",
    "    import pandas as pd\n",
    "\n",
    "    lecture_dfs = []\n",
    "    for i, row in dir_df.iterrows():\n",
    "        csv_str = StringIO(row[1])\n",
    "        r_df = pd.read_csv(csv_str, sep=\";\")\n",
    "        r_df[\"filename\"] = row[0]\n",
    "        lecture_dfs.append(r_df)\n",
    "\n",
    "    return pd.concat(lecture_dfs)"
   ]
  },
  {
   "cell_type": "markdown",
   "id": "395f7c23",
   "metadata": {},
   "source": [
    "We can verify this worked as we expected by serving this source as a dataframe and inspecting the results."
   ]
  },
  {
   "cell_type": "code",
   "execution_count": 6,
   "id": "a67f4939",
   "metadata": {},
   "outputs": [
    {
     "name": "stdout",
     "output_type": "stream",
     "text": [
      "Applying Run: passionate_sinoussi\n",
      "Creating provider local-mode \n",
      "Creating source process_lecture_files  passionate_sinoussi\n"
     ]
    },
    {
     "data": {
      "text/html": [
       "<div>\n",
       "<style scoped>\n",
       "    .dataframe tbody tr th:only-of-type {\n",
       "        vertical-align: middle;\n",
       "    }\n",
       "\n",
       "    .dataframe tbody tr th {\n",
       "        vertical-align: top;\n",
       "    }\n",
       "\n",
       "    .dataframe thead th {\n",
       "        text-align: right;\n",
       "    }\n",
       "</style>\n",
       "<table border=\"1\" class=\"dataframe\">\n",
       "  <thead>\n",
       "    <tr style=\"text-align: right;\">\n",
       "      <th></th>\n",
       "      <th>Lecture</th>\n",
       "      <th>Topic</th>\n",
       "      <th>Section</th>\n",
       "      <th>Text</th>\n",
       "      <th>filename</th>\n",
       "    </tr>\n",
       "  </thead>\n",
       "  <tbody>\n",
       "    <tr>\n",
       "      <th>0</th>\n",
       "      <td>0</td>\n",
       "      <td>Review of Sets</td>\n",
       "      <td>Intro</td>\n",
       "      <td>A set is a well defined collection of objects....</td>\n",
       "      <td>Note_0.csv</td>\n",
       "    </tr>\n",
       "    <tr>\n",
       "      <th>1</th>\n",
       "      <td>0</td>\n",
       "      <td>Review of Sets</td>\n",
       "      <td>Cardinality</td>\n",
       "      <td>We can also talk about the size of a set, or i...</td>\n",
       "      <td>Note_0.csv</td>\n",
       "    </tr>\n",
       "    <tr>\n",
       "      <th>2</th>\n",
       "      <td>0</td>\n",
       "      <td>Review of Sets</td>\n",
       "      <td>Subsets and Proper Subsets</td>\n",
       "      <td>If every element of a set A is also in set B, ...</td>\n",
       "      <td>Note_0.csv</td>\n",
       "    </tr>\n",
       "    <tr>\n",
       "      <th>3</th>\n",
       "      <td>0</td>\n",
       "      <td>Review of Sets</td>\n",
       "      <td>Intersections and Unions</td>\n",
       "      <td>The intersection of a set A with a set B, writ...</td>\n",
       "      <td>Note_0.csv</td>\n",
       "    </tr>\n",
       "    <tr>\n",
       "      <th>4</th>\n",
       "      <td>0</td>\n",
       "      <td>Review of Sets</td>\n",
       "      <td>Complements</td>\n",
       "      <td>If A and B are two sets, then the relative com...</td>\n",
       "      <td>Note_0.csv</td>\n",
       "    </tr>\n",
       "  </tbody>\n",
       "</table>\n",
       "</div>"
      ],
      "text/plain": [
       "   Lecture           Topic                     Section  \\\n",
       "0        0  Review of Sets                       Intro   \n",
       "1        0  Review of Sets                 Cardinality   \n",
       "2        0  Review of Sets  Subsets and Proper Subsets   \n",
       "3        0  Review of Sets    Intersections and Unions   \n",
       "4        0  Review of Sets                 Complements   \n",
       "\n",
       "                                                Text    filename  \n",
       "0  A set is a well defined collection of objects....  Note_0.csv  \n",
       "1  We can also talk about the size of a set, or i...  Note_0.csv  \n",
       "2  If every element of a set A is also in set B, ...  Note_0.csv  \n",
       "3  The intersection of a set A with a set B, writ...  Note_0.csv  \n",
       "4  If A and B are two sets, then the relative com...  Note_0.csv  "
      ]
     },
     "execution_count": 6,
     "metadata": {},
     "output_type": "execute_result"
    }
   ],
   "source": [
    "df = client.dataframe(process_lecture_files)\n",
    "\n",
    "df.head()"
   ]
  },
  {
   "cell_type": "markdown",
   "id": "12710fa4",
   "metadata": {},
   "source": [
    "## Step 3. Entity ID Transformation\n",
    "\n",
    "For our purposes, we'll need a unique identifier for each speakers' comments, so we'll choose `\"Speaker\"`, `\"Start time\"` and `\"filename\"` to create a new column, `\"PK\"`."
   ]
  },
  {
   "cell_type": "code",
   "execution_count": 7,
   "id": "abbb6305",
   "metadata": {},
   "outputs": [],
   "source": [
    "@local.df_transformation(inputs=[process_lecture_files])\n",
    "def text_primary_key(lectures_df):\n",
    "    lectures_df[\"PK\"] = lectures_df.apply(lambda row: f\"{row['Lecture']}_{row['Section']}_{row['filename']}\", axis=1)\n",
    "    \n",
    "    return lectures_df"
   ]
  },
  {
   "cell_type": "code",
   "execution_count": 8,
   "id": "0b0e1ab6",
   "metadata": {},
   "outputs": [
    {
     "name": "stdout",
     "output_type": "stream",
     "text": [
      "Applying Run: passionate_sinoussi\n",
      "Creating provider local-mode \n",
      "Creating source text_primary_key  passionate_sinoussi\n"
     ]
    },
    {
     "data": {
      "text/html": [
       "<div>\n",
       "<style scoped>\n",
       "    .dataframe tbody tr th:only-of-type {\n",
       "        vertical-align: middle;\n",
       "    }\n",
       "\n",
       "    .dataframe tbody tr th {\n",
       "        vertical-align: top;\n",
       "    }\n",
       "\n",
       "    .dataframe thead th {\n",
       "        text-align: right;\n",
       "    }\n",
       "</style>\n",
       "<table border=\"1\" class=\"dataframe\">\n",
       "  <thead>\n",
       "    <tr style=\"text-align: right;\">\n",
       "      <th></th>\n",
       "      <th>Lecture</th>\n",
       "      <th>Topic</th>\n",
       "      <th>Section</th>\n",
       "      <th>Text</th>\n",
       "      <th>filename</th>\n",
       "      <th>PK</th>\n",
       "    </tr>\n",
       "  </thead>\n",
       "  <tbody>\n",
       "    <tr>\n",
       "      <th>0</th>\n",
       "      <td>0</td>\n",
       "      <td>Review of Sets</td>\n",
       "      <td>Intro</td>\n",
       "      <td>A set is a well defined collection of objects....</td>\n",
       "      <td>Note_0.csv</td>\n",
       "      <td>0_Intro_Note_0.csv</td>\n",
       "    </tr>\n",
       "    <tr>\n",
       "      <th>1</th>\n",
       "      <td>0</td>\n",
       "      <td>Review of Sets</td>\n",
       "      <td>Cardinality</td>\n",
       "      <td>We can also talk about the size of a set, or i...</td>\n",
       "      <td>Note_0.csv</td>\n",
       "      <td>0_Cardinality_Note_0.csv</td>\n",
       "    </tr>\n",
       "    <tr>\n",
       "      <th>2</th>\n",
       "      <td>0</td>\n",
       "      <td>Review of Sets</td>\n",
       "      <td>Subsets and Proper Subsets</td>\n",
       "      <td>If every element of a set A is also in set B, ...</td>\n",
       "      <td>Note_0.csv</td>\n",
       "      <td>0_Subsets and Proper Subsets_Note_0.csv</td>\n",
       "    </tr>\n",
       "    <tr>\n",
       "      <th>3</th>\n",
       "      <td>0</td>\n",
       "      <td>Review of Sets</td>\n",
       "      <td>Intersections and Unions</td>\n",
       "      <td>The intersection of a set A with a set B, writ...</td>\n",
       "      <td>Note_0.csv</td>\n",
       "      <td>0_Intersections and Unions_Note_0.csv</td>\n",
       "    </tr>\n",
       "    <tr>\n",
       "      <th>4</th>\n",
       "      <td>0</td>\n",
       "      <td>Review of Sets</td>\n",
       "      <td>Complements</td>\n",
       "      <td>If A and B are two sets, then the relative com...</td>\n",
       "      <td>Note_0.csv</td>\n",
       "      <td>0_Complements_Note_0.csv</td>\n",
       "    </tr>\n",
       "  </tbody>\n",
       "</table>\n",
       "</div>"
      ],
      "text/plain": [
       "   Lecture           Topic                     Section  \\\n",
       "0        0  Review of Sets                       Intro   \n",
       "1        0  Review of Sets                 Cardinality   \n",
       "2        0  Review of Sets  Subsets and Proper Subsets   \n",
       "3        0  Review of Sets    Intersections and Unions   \n",
       "4        0  Review of Sets                 Complements   \n",
       "\n",
       "                                                Text    filename  \\\n",
       "0  A set is a well defined collection of objects....  Note_0.csv   \n",
       "1  We can also talk about the size of a set, or i...  Note_0.csv   \n",
       "2  If every element of a set A is also in set B, ...  Note_0.csv   \n",
       "3  The intersection of a set A with a set B, writ...  Note_0.csv   \n",
       "4  If A and B are two sets, then the relative com...  Note_0.csv   \n",
       "\n",
       "                                        PK  \n",
       "0                       0_Intro_Note_0.csv  \n",
       "1                 0_Cardinality_Note_0.csv  \n",
       "2  0_Subsets and Proper Subsets_Note_0.csv  \n",
       "3    0_Intersections and Unions_Note_0.csv  \n",
       "4                 0_Complements_Note_0.csv  "
      ]
     },
     "execution_count": 8,
     "metadata": {},
     "output_type": "execute_result"
    }
   ],
   "source": [
    "df = client.dataframe(text_primary_key)\n",
    "\n",
    "df.head()"
   ]
  },
  {
   "cell_type": "markdown",
   "id": "573c9e07",
   "metadata": {},
   "source": [
    "## Step 4. Embeddings Transformation\n",
    "\n",
    "We'll use [`all-MiniLM-L6-v2`](https://huggingface.co/sentence-transformers/all-MiniLM-L6-v2) to create embeddings for each speakers' comments. When we register an entity and associate a feature with this entity, this transformation will be materialized and the embeddings will be persisted in a Pinecone index."
   ]
  },
  {
   "cell_type": "code",
   "execution_count": 9,
   "id": "c72eb2e3",
   "metadata": {},
   "outputs": [],
   "source": [
    "@local.df_transformation(inputs=[text_primary_key])\n",
    "def vectorize_comments(lectures_df):\n",
    "    from sentence_transformers import SentenceTransformer\n",
    "\n",
    "    model = SentenceTransformer(\"all-MiniLM-L6-v2\")\n",
    "    embeddings = model.encode(lectures_df[\"Section\"].tolist())\n",
    "    lectures_df[\"Vector\"] = embeddings.tolist()\n",
    "    \n",
    "    return lectures_df"
   ]
  },
  {
   "cell_type": "markdown",
   "id": "04bb6af7",
   "metadata": {},
   "source": [
    "## Step 5. Register Pinecone\n",
    "\n",
    "We'll be using Pinecone for this example, but you can also choose to use Weaviate.\n",
    "\n",
    "This step assumes you have a `.env` file with your Pinecone credentials."
   ]
  },
  {
   "cell_type": "code",
   "execution_count": 10,
   "id": "c6c5471c",
   "metadata": {},
   "outputs": [],
   "source": [
    "import dotenv\n",
    "import os\n",
    "\n",
    "dotenv.load_dotenv(\".env\")\n",
    "\n",
    "pinecone = ff.register_pinecone(\n",
    "    name=\"pinecone\",\n",
    "    project_id=os.getenv(\"PINECONE_PROJECT_ID\", \"\"),\n",
    "    environment=os.getenv(\"PINECONE_ENVIRONMENT\", \"\"),\n",
    "    api_key=os.getenv(\"PINECONE_API_KEY\", \"\"),\n",
    ")"
   ]
  },
  {
   "cell_type": "code",
   "execution_count": 11,
   "id": "191b655b",
   "metadata": {},
   "outputs": [
    {
     "name": "stdout",
     "output_type": "stream",
     "text": [
      "Applying Run: passionate_sinoussi\n",
      "Creating provider local-mode \n",
      "Creating provider pinecone \n",
      "Creating source vectorize_comments  passionate_sinoussi\n"
     ]
    }
   ],
   "source": [
    "client.apply()"
   ]
  },
  {
   "cell_type": "markdown",
   "id": "b4f0308b",
   "metadata": {},
   "source": [
    "## Step 6. Register Entity, Features, and Embeddings and write them to Vector DB.\n",
    "\n",
    "We'll now register an entity and a feature, which will kick off the materialization process.\n",
    "\n",
    "**NOTE:**\n",
    "This may take some time to complete. See the progress bar for status."
   ]
  },
  {
   "cell_type": "code",
   "execution_count": 12,
   "id": "eef327c8",
   "metadata": {},
   "outputs": [],
   "source": [
    "@ff.entity\n",
    "class Text:\n",
    "    comment_embeddings = ff.Embedding(\n",
    "        vectorize_comments[[\"PK\", \"Vector\"]],\n",
    "        dims=384,\n",
    "        vector_db=pinecone,\n",
    "        description=\"Embeddings created from speakers' comments in episodes\",\n",
    "        variant=\"v2\"\n",
    "    )\n",
    "    comments = ff.Feature(\n",
    "        text_primary_key[[\"PK\", \"Text\"]],\n",
    "        type=ff.String,\n",
    "        description=\"Speakers' original comments\",\n",
    "        variant=\"v2\"\n",
    "    )"
   ]
  },
  {
   "cell_type": "code",
   "execution_count": 13,
   "id": "d8300b5f",
   "metadata": {},
   "outputs": [
    {
     "name": "stdout",
     "output_type": "stream",
     "text": [
      "Requirement already satisfied: pinecone-client in /home/smiley/anaconda3/lib/python3.9/site-packages (2.2.2)\n",
      "Requirement already satisfied: urllib3>=1.21.1 in /home/smiley/anaconda3/lib/python3.9/site-packages (from pinecone-client) (1.26.9)\n",
      "Requirement already satisfied: loguru>=0.5.0 in /home/smiley/anaconda3/lib/python3.9/site-packages (from pinecone-client) (0.7.0)\n",
      "Requirement already satisfied: dnspython>=2.0.0 in /home/smiley/anaconda3/lib/python3.9/site-packages (from pinecone-client) (2.3.0)\n",
      "Requirement already satisfied: requests>=2.19.0 in /home/smiley/anaconda3/lib/python3.9/site-packages (from pinecone-client) (2.31.0)\n",
      "Requirement already satisfied: typing-extensions>=3.7.4 in /home/smiley/anaconda3/lib/python3.9/site-packages (from pinecone-client) (4.1.1)\n",
      "Requirement already satisfied: numpy>=1.22.0 in /home/smiley/anaconda3/lib/python3.9/site-packages (from pinecone-client) (1.22.0)\n",
      "Requirement already satisfied: python-dateutil>=2.5.3 in /home/smiley/anaconda3/lib/python3.9/site-packages (from pinecone-client) (2.8.2)\n",
      "Requirement already satisfied: pyyaml>=5.4 in /home/smiley/anaconda3/lib/python3.9/site-packages (from pinecone-client) (6.0)\n",
      "Requirement already satisfied: tqdm>=4.64.1 in /home/smiley/anaconda3/lib/python3.9/site-packages (from pinecone-client) (4.65.0)\n",
      "Requirement already satisfied: six>=1.5 in /home/smiley/anaconda3/lib/python3.9/site-packages (from python-dateutil>=2.5.3->pinecone-client) (1.16.0)\n",
      "Requirement already satisfied: idna<4,>=2.5 in /home/smiley/anaconda3/lib/python3.9/site-packages (from requests>=2.19.0->pinecone-client) (3.3)\n",
      "Requirement already satisfied: certifi>=2017.4.17 in /home/smiley/anaconda3/lib/python3.9/site-packages (from requests>=2.19.0->pinecone-client) (2021.10.8)\n",
      "Requirement already satisfied: charset-normalizer<4,>=2 in /home/smiley/anaconda3/lib/python3.9/site-packages (from requests>=2.19.0->pinecone-client) (2.0.4)\n"
     ]
    }
   ],
   "source": [
    "!pip install pinecone-client"
   ]
  },
  {
   "cell_type": "code",
   "execution_count": 14,
   "id": "71a1b0f8",
   "metadata": {
    "scrolled": false
   },
   "outputs": [
    {
     "name": "stdout",
     "output_type": "stream",
     "text": [
      "Applying Run: passionate_sinoussi\n",
      "Creating provider local-mode \n",
      "Creating entity text \n",
      "Creating feature comment_embeddings  v2\n",
      "Creating feature comments  v2\n"
     ]
    },
    {
     "name": "stderr",
     "output_type": "stream",
     "text": [
      "ResourceWarning: unclosed <ssl.SSLSocket fd=61, family=AddressFamily.AF_INET, type=SocketKind.SOCK_STREAM, proto=6, laddr=('10.142.146.242', 41632), raddr=('35.247.126.212', 443)>\n"
     ]
    },
    {
     "name": "stdout",
     "output_type": "stream",
     "text": [
      "\r",
      "Updating Feature Table: |--------------------------------------------------| 0% Complete"
     ]
    },
    {
     "name": "stderr",
     "output_type": "stream",
     "text": [
      "SettingWithCopyWarning: \n",
      "A value is trying to be set on a copy of a slice from a DataFrame\n",
      "\n",
      "See the caveats in the documentation: https://pandas.pydata.org/pandas-docs/stable/user_guide/indexing.html#returning-a-view-versus-a-copy\n",
      "SettingWithCopyWarning: \n",
      "A value is trying to be set on a copy of a slice from a DataFrame\n",
      "\n",
      "See the caveats in the documentation: https://pandas.pydata.org/pandas-docs/stable/user_guide/indexing.html#returning-a-view-versus-a-copy\n"
     ]
    },
    {
     "name": "stdout",
     "output_type": "stream",
     "text": [
      "Updating Feature Table: |████████████████----------------------------------| 33% Complete"
     ]
    },
    {
     "name": "stderr",
     "output_type": "stream",
     "text": [
      "ResourceWarning: unclosed <ssl.SSLSocket fd=63, family=AddressFamily.AF_INET, type=SocketKind.SOCK_STREAM, proto=6, laddr=('10.142.146.242', 59448), raddr=('35.247.126.212', 443)>\n"
     ]
    },
    {
     "name": "stdout",
     "output_type": "stream",
     "text": [
      "Updating Feature Table: |█████████████████████████████████-----------------| 66% Complete"
     ]
    },
    {
     "name": "stderr",
     "output_type": "stream",
     "text": [
      "ResourceWarning: unclosed <ssl.SSLSocket fd=66, family=AddressFamily.AF_INET, type=SocketKind.SOCK_STREAM, proto=6, laddr=('10.142.146.242', 59466), raddr=('35.247.126.212', 443)>\n",
      "ResourceWarning: unclosed <ssl.SSLSocket fd=67, family=AddressFamily.AF_INET, type=SocketKind.SOCK_STREAM, proto=6, laddr=('10.142.146.242', 59468), raddr=('35.247.126.212', 443)>\n"
     ]
    },
    {
     "name": "stdout",
     "output_type": "stream",
     "text": [
      "Updating Feature Table: |██████████████████████████████████████████████████| 100% Complete\n",
      "\n",
      "Updating Feature Table: |██████████████████████████████████████████████████| 100% Complete\n",
      "\n"
     ]
    },
    {
     "name": "stderr",
     "output_type": "stream",
     "text": [
      "ResourceWarning: unclosed <ssl.SSLSocket fd=67, family=AddressFamily.AF_INET, type=SocketKind.SOCK_STREAM, proto=6, laddr=('10.142.146.242', 59494), raddr=('35.247.126.212', 443)>\n",
      "ResourceWarning: unclosed <ssl.SSLSocket fd=68, family=AddressFamily.AF_INET, type=SocketKind.SOCK_STREAM, proto=6, laddr=('10.142.146.242', 59498), raddr=('35.247.126.212', 443)>\n"
     ]
    }
   ],
   "source": [
    "client.apply()"
   ]
  },
  {
   "cell_type": "markdown",
   "id": "8cdf3e4c",
   "metadata": {},
   "source": [
    "## Step 7. Register On-Demand Features to Retrieve Relevent Context\n",
    "\n",
    "We'll want to query the embeddings we created and then fetch their related docs and we can do so using Featureform's on-demand feature decorator. This creates a feature that's calculated on the client at serving time."
   ]
  },
  {
   "cell_type": "code",
   "execution_count": 15,
   "id": "1a9fb88f",
   "metadata": {},
   "outputs": [],
   "source": [
    "@ff.ondemand_feature(variant=\"calhacks\")\n",
    "def relevent_comments(client, params, entity):\n",
    "    from sentence_transformers import SentenceTransformer\n",
    "\n",
    "    model = SentenceTransformer(\"all-MiniLM-L6-v2\")\n",
    "    search_vector = model.encode(params[\"query\"])\n",
    "    res = client.nearest(\"comment_embeddings\", \"v2\", search_vector, k=3)\n",
    "    return res"
   ]
  },
  {
   "cell_type": "code",
   "execution_count": 16,
   "id": "392ebd00",
   "metadata": {},
   "outputs": [
    {
     "name": "stdout",
     "output_type": "stream",
     "text": [
      "Applying Run: passionate_sinoussi\n",
      "Creating provider local-mode \n",
      "Creating ondemand_feature relevent_comments  calhacks\n"
     ]
    },
    {
     "name": "stderr",
     "output_type": "stream",
     "text": [
      "ResourceWarning: unclosed <ssl.SSLSocket fd=60, family=AddressFamily.AF_INET, type=SocketKind.SOCK_STREAM, proto=6, laddr=('10.142.146.242', 59420), raddr=('35.247.126.212', 443)>\n",
      "ResourceWarning: unclosed <ssl.SSLSocket fd=64, family=AddressFamily.AF_INET, type=SocketKind.SOCK_STREAM, proto=6, laddr=('10.142.146.242', 59434), raddr=('35.247.126.212', 443)>\n",
      "ResourceWarning: unclosed <ssl.SSLSocket fd=61, family=AddressFamily.AF_INET, type=SocketKind.SOCK_STREAM, proto=6, laddr=('10.142.146.242', 59426), raddr=('35.247.126.212', 443)>\n",
      "ResourceWarning: unclosed <ssl.SSLSocket fd=63, family=AddressFamily.AF_INET, type=SocketKind.SOCK_STREAM, proto=6, laddr=('10.142.146.242', 59458), raddr=('35.247.126.212', 443)>\n",
      "ResourceWarning: unclosed <ssl.SSLSocket fd=66, family=AddressFamily.AF_INET, type=SocketKind.SOCK_STREAM, proto=6, laddr=('10.142.146.242', 59484), raddr=('35.247.126.212', 443)>\n",
      "ResourceWarning: unclosed <ssl.SSLSocket fd=59, family=AddressFamily.AF_INET, type=SocketKind.SOCK_STREAM, proto=6, laddr=('10.142.146.242', 59520), raddr=('35.247.126.212', 443)>\n",
      "ResourceWarning: unclosed <ssl.SSLSocket fd=59, family=AddressFamily.AF_INET, type=SocketKind.SOCK_STREAM, proto=6, laddr=('10.142.146.242', 59538), raddr=('35.247.126.212', 443)>\n"
     ]
    },
    {
     "data": {
      "text/plain": [
       "array([['0_Subsets and Proper Subsets_Note_0.csv',\n",
       "        '0_Complements_Note_0.csv',\n",
       "        '0_Intersections and Unions_Note_0.csv']], dtype='<U39')"
      ]
     },
     "execution_count": 16,
     "metadata": {},
     "output_type": "execute_result"
    }
   ],
   "source": [
    "client.apply()\n",
    "client.features([(\"relevent_comments\", \"calhacks\")], {}, params={\"query\": \"subset\"})"
   ]
  },
  {
   "cell_type": "code",
   "execution_count": 17,
   "id": "9a1d378c",
   "metadata": {},
   "outputs": [],
   "source": [
    "@ff.ondemand_feature(variant=\"calhack\")\n",
    "def contextualized_prompt(client, params, entity):\n",
    "    pks = client.features([(\"relevent_comments\", \"calhacks\")], {}, params=params)\n",
    "    prompt = \"Use the following snippets from the lecture notes to answer the following question\\n\"\n",
    "    for pk in pks[0]:\n",
    "        prompt += \"```\"\n",
    "        prompt += client.features([(\"comments\", \"v2\")], {\"speaker\": pk})[0]\n",
    "        prompt += \"```\\n\"\n",
    "    prompt += \"Question: \"\n",
    "    prompt += params[\"query\"]\n",
    "    prompt += \"?\"\n",
    "    return prompt\n"
   ]
  },
  {
   "cell_type": "code",
   "execution_count": 18,
   "id": "98708b08",
   "metadata": {},
   "outputs": [
    {
     "name": "stdout",
     "output_type": "stream",
     "text": [
      "Applying Run: passionate_sinoussi\n",
      "Creating provider local-mode \n",
      "Creating ondemand_feature contextualized_prompt  calhack\n"
     ]
    },
    {
     "name": "stderr",
     "output_type": "stream",
     "text": [
      "ResourceWarning: unclosed <ssl.SSLSocket fd=59, family=AddressFamily.AF_INET, type=SocketKind.SOCK_STREAM, proto=6, laddr=('10.142.146.242', 59552), raddr=('35.247.126.212', 443)>\n",
      "ResourceWarning: unclosed <ssl.SSLSocket fd=60, family=AddressFamily.AF_INET, type=SocketKind.SOCK_STREAM, proto=6, laddr=('10.142.146.242', 59566), raddr=('35.247.126.212', 443)>\n",
      "ResourceWarning: unclosed <ssl.SSLSocket fd=60, family=AddressFamily.AF_INET, type=SocketKind.SOCK_STREAM, proto=6, laddr=('10.142.146.242', 59586), raddr=('35.247.126.212', 443)>\n",
      "ResourceWarning: unclosed <ssl.SSLSocket fd=60, family=AddressFamily.AF_INET, type=SocketKind.SOCK_STREAM, proto=6, laddr=('10.142.146.242', 59592), raddr=('35.247.126.212', 443)>\n"
     ]
    },
    {
     "data": {
      "text/plain": [
       "array(['Use the following snippets from the lecture notes to answer the following question\\n```If every element of a set A is also in set B, then we say that A is a subset of B, written A $\\\\subseteq$ B. Equivalently we can write B $superseteq$ A, or B is a superset of A. A proper subset is a set A that is strictly contained in B, written as A $subset$ B, meaning that A excludes at least one element of B. For example, consider the set B = {1,2,3,4,5}. Then {1,2,3} is both a subset and a proper subset of B, while {1,2,3,4,5} is a subset but not a proper subset of B. Here are a few basic properties regarding subsets: -  The empty set, denote by {} or /0, is a proper subset of any nonempty set A: {} $subset$ A. -  The empty set is a subset of every set B: {} $\\\\subseteq$ B. -  Every set A is a subset of itself: A $\\\\subseteq$ A.```\\n```If A and B are two sets, then the relative complement of A in B, or the set difference between B and A, written as B $-$ A or B \\\\ A, is the set of elements in B, but not in A: B \\\\ A = {x $\\\\in$ B | x $\\\\notin$  A}. For example, if B = {1,2,3} and A = {3,4,5}, then B\\\\A = {1,2}. For another example, if R is the set of real numbers and Q is the set of rational numbers, then R \\\\Q is the set of irrational numbers. Here are some important properties of complements: -  A\\\\A = /0. -  A\\\\ /0 = A. -  /0 \\\\A = /0.```\\n```The intersection of a set A with a set B, written as A$\\\\cap$ B, is the set containing all elements which are in both A and B. Two sets are said to be disjoint if A$\\\\cap$ B = /0. The union of a set A with a set B, written as A$\\\\cup$ B, is the set of all elements which are in either A or B or both. For example, if A is the set of all positive even numbers, and B is the set of all positive odd numbers, then A$\\\\cap$ B = /0, and A$\\\\cup$ B = Z +, or the set of all positive integers. Here are a few properties of intersections and unions: -  A$\\\\cup$ B = B$\\\\cup$ A.  -  A$\\\\cup$  /0 = A.   -  A$\\\\cap$ B = B$\\\\cap$ A.  -  A$\\\\cap$  /0 = /0.```\\nQuestion: subset?'],\n",
       "      dtype='<U1996')"
      ]
     },
     "execution_count": 18,
     "metadata": {},
     "output_type": "execute_result"
    }
   ],
   "source": [
    "client.apply()\n",
    "client.features([(\"contextualized_prompt\", \"calhack\")], {}, params={\"query\": \"subset\"})"
   ]
  },
  {
   "cell_type": "markdown",
   "id": "d4a0be59",
   "metadata": {},
   "source": [
    "# Finally we can feed our prompt into OpenAI!"
   ]
  },
  {
   "cell_type": "code",
   "execution_count": 26,
   "id": "70ec45d5",
   "metadata": {},
   "outputs": [
    {
     "name": "stdout",
     "output_type": "stream",
     "text": [
      "Applying Run: passionate_sinoussi\n",
      "Creating provider local-mode \n"
     ]
    },
    {
     "name": "stderr",
     "output_type": "stream",
     "text": [
      "ResourceWarning: unclosed <ssl.SSLSocket fd=63, family=AddressFamily.AF_INET, type=SocketKind.SOCK_STREAM, proto=6, laddr=('10.142.146.242', 48242), raddr=('35.247.126.212', 443)>\n",
      "ResourceWarning: unclosed <ssl.SSLSocket fd=63, family=AddressFamily.AF_INET, type=SocketKind.SOCK_STREAM, proto=6, laddr=('10.142.146.242', 48260), raddr=('35.247.126.212', 443)>\n"
     ]
    },
    {
     "name": "stdout",
     "output_type": "stream",
     "text": [
      "\n",
      "\n",
      "Answer: You should know that if every element of a set A is also in set B, then we say that A is a subset of B, written A $\\subseteq$ B. Equivalently we can write B $superseteq$ A, or B is a superset of A. A proper subset is a set A that is strictly contained in B, written as A $subset$ B, meaning that A excludes at least one element of B. You should also know the basic properties regarding subsets: the empty set is a proper subset of any non-empty set A, the empty set is a subset of every set B, and every set A is a subset of itself.\n"
     ]
    }
   ],
   "source": [
    "client.apply()\n",
    "q = \"What should I know about subset\"\n",
    "prompt = client.features([(\"contextualized_prompt\", \"calhack\")], {}, params={\"query\": q})[0]\n",
    "import openai\n",
    "#openai.organization = os.getenv(\"OPENAI_ORG\", \"\")\n",
    "openai.api_key = os.getenv(\"OPENAI_KEY\", \"\")\n",
    "\n",
    "print(openai.Completion.create(\n",
    "    model=\"text-davinci-003\",\n",
    "    prompt=prompt,\n",
    "    max_tokens=1000, # The max number of tokens to generate\n",
    "    temperature=1.0 # A measure of randomness\n",
    ")[\"choices\"][0][\"text\"])"
   ]
  },
  {
   "cell_type": "code",
   "execution_count": null,
   "id": "965539cd",
   "metadata": {},
   "outputs": [],
   "source": []
  }
 ],
 "metadata": {
  "kernelspec": {
   "display_name": "Python 3 (ipykernel)",
   "language": "python",
   "name": "python3"
  },
  "language_info": {
   "codemirror_mode": {
    "name": "ipython",
    "version": 3
   },
   "file_extension": ".py",
   "mimetype": "text/x-python",
   "name": "python",
   "nbconvert_exporter": "python",
   "pygments_lexer": "ipython3",
   "version": "3.9.12"
  }
 },
 "nbformat": 4,
 "nbformat_minor": 5
}
