{
 "cells": [
  {
   "cell_type": "markdown",
   "id": "423f0449",
   "metadata": {},
   "source": [
    "# TAid QA Chatbot\n",
    "\n",
    "TAid course-oriented chatbot that aims to help answering course-related conceptual questions. It is built on Feature Forms's MLOps implementation and uses vectorised course material to provide more context.\n",
    "\n",
    "## Requirements\n",
    "\n",
    "* Python 3.7+\n",
    "* PyPI (pip3 install PyPI)\n",
    "* python-dotenv 1.0.0 (pip3 install python-dotenv 1.0.0)\n",
    "* featureform (pip3 install featureform)\n",
    "* Hugging Face sentence-transformers  (pip3 install sentence-transformers)\n",
    "* daal4y (pip3 install daal4py)\n",
    "* openai (pip3 install openai)\n",
    "* `.env` file with one or both sets of credentials from Pinecone/Weaviate and openAI credentials\n"
   ]
  },
  {
   "cell_type": "markdown",
   "id": "9d69ea8b",
   "metadata": {},
   "source": [
    "```\n",
    "pip3 install PyPI\n",
    "pip3 install python-dotenv 1.0.0\n",
    "pip3 install featureform\n",
    "pip3 install sentence-transformers\n",
    "pip3 install daal4py\n",
    "pip3 install openai\n",
    "```"
   ]
  },
  {
   "cell_type": "markdown",
   "id": "264beae7",
   "metadata": {},
   "source": [
    "## .env Credentials\n",
    "\n",
    "[Pinecone](https://www.pinecone.io/) \n",
    "\n",
    "PINECONE_PROJECT_ID=\n",
    "\n",
    "PINECONE_ENVIRONMENT=\n",
    "\n",
    "PINECONE_API_KEY=\n",
    "\n",
    "\n",
    "[Weaviate](https://weaviate.io/)\n",
    "\n",
    "WEAVIATE_URL=\n",
    "\n",
    "WEAVIATE_API_KEY=\n",
    "\n",
    "\n",
    "[openAI](https://platform.openai.com/)\n",
    "\n",
    "OPENAI_KEY="
   ]
  },
  {
   "cell_type": "markdown",
   "id": "56bf4382",
   "metadata": {},
   "source": [
    "## Step  1. Register Source\n",
    "\n",
    "`data/files` is a directory of CSV files, which use `;` as a delimiter and hold lecture notes of the a certain course (In this example, the notes of CS70 are used). Each row is a section, a subsection, or a subsubsection depending on the smallest unit in the notes's outline.\n",
    "\n",
    "* Lecture\n",
    "* Topic\n",
    "* Section\n",
    "* Text\n",
    "* filename\n"
   ]
  },
  {
   "cell_type": "code",
   "execution_count": 1,
   "id": "845783c1",
   "metadata": {},
   "outputs": [
    {
     "name": "stderr",
     "output_type": "stream",
     "text": [
      "TqdmExperimentalWarning: Using `tqdm.autonotebook.tqdm` in notebook mode. Use `tqdm.tqdm` instead to force console mode (e.g. in jupyter console)\n"
     ]
    }
   ],
   "source": [
    "import featureform as ff\n",
    "from featureform import local\n",
    "\n",
    "client = ff.Client(local=True)"
   ]
  },
  {
   "cell_type": "markdown",
   "id": "f5a85622",
   "metadata": {},
   "source": [
    "**NOTE:** We'll create an instance of the client to register resources as we define them.\n",
    "\n",
    "**NOTE:** The register saves the data in a `.featureform` folder. It is recommended to delete the folder and have a fresh start with every run."
   ]
  },
  {
   "cell_type": "code",
   "execution_count": 2,
   "id": "288939b7",
   "metadata": {},
   "outputs": [],
   "source": [
    "lectures = local.register_directory(\n",
    "    name=\"notes\",\n",
    "    path=\"data/files\",\n",
    "    description=\"CS70 Notes\",\n",
    ")"
   ]
  },
  {
   "cell_type": "code",
   "execution_count": 3,
   "id": "88a1d1e3",
   "metadata": {},
   "outputs": [
    {
     "name": "stdout",
     "output_type": "stream",
     "text": [
      "Applying Run: confident_minsky\n",
      "Creating user default_user \n",
      "Creating provider local-mode \n",
      "Creating source notes  confident_minsky\n"
     ]
    },
    {
     "data": {
      "text/html": [
       "<div>\n",
       "<style scoped>\n",
       "    .dataframe tbody tr th:only-of-type {\n",
       "        vertical-align: middle;\n",
       "    }\n",
       "\n",
       "    .dataframe tbody tr th {\n",
       "        vertical-align: top;\n",
       "    }\n",
       "\n",
       "    .dataframe thead th {\n",
       "        text-align: right;\n",
       "    }\n",
       "</style>\n",
       "<table border=\"1\" class=\"dataframe\">\n",
       "  <thead>\n",
       "    <tr style=\"text-align: right;\">\n",
       "      <th></th>\n",
       "      <th>filename</th>\n",
       "      <th>body</th>\n",
       "    </tr>\n",
       "  </thead>\n",
       "  <tbody>\n",
       "    <tr>\n",
       "      <th>0</th>\n",
       "      <td>Note_7.csv</td>\n",
       "      <td>Lecture;Topic;Section;Text\\n7;Public Key Crypt...</td>\n",
       "    </tr>\n",
       "    <tr>\n",
       "      <th>1</th>\n",
       "      <td>Note_0.csv</td>\n",
       "      <td>Lecture;Topic;Section;Text\\n0;Review of Sets;I...</td>\n",
       "    </tr>\n",
       "    <tr>\n",
       "      <th>2</th>\n",
       "      <td>Note_4.csv</td>\n",
       "      <td>Lecture;Topic;Section;Text\\n4;The Stable Match...</td>\n",
       "    </tr>\n",
       "  </tbody>\n",
       "</table>\n",
       "</div>"
      ],
      "text/plain": [
       "     filename                                               body\n",
       "0  Note_7.csv  Lecture;Topic;Section;Text\\n7;Public Key Crypt...\n",
       "1  Note_0.csv  Lecture;Topic;Section;Text\\n0;Review of Sets;I...\n",
       "2  Note_4.csv  Lecture;Topic;Section;Text\\n4;The Stable Match..."
      ]
     },
     "execution_count": 3,
     "metadata": {},
     "output_type": "execute_result"
    }
   ],
   "source": [
    "client.dataframe(lectures)"
   ]
  },
  {
   "cell_type": "markdown",
   "id": "9c0b0c7f",
   "metadata": {},
   "source": [
    "**NOTE:** The next cell doesn't need to be ran. Run it only if you need to access featureform's dashboard."
   ]
  },
  {
   "cell_type": "code",
   "execution_count": 4,
   "id": "dcdb0f5a",
   "metadata": {},
   "outputs": [],
   "source": [
    "#!featureform dash"
   ]
  },
  {
   "cell_type": "markdown",
   "id": "bec0f7fb",
   "metadata": {},
   "source": [
    "## Step 2. Transform Transcripts\n",
    "\n",
    "When registering a directory, files are converted into a table with columns `\"filename\"` and `\"body\"`. This is helpful for avoiding the situation where we need to register many files; however, in our case, we'll need to process this table to get it ready for vectorization."
   ]
  },
  {
   "cell_type": "code",
   "execution_count": 5,
   "id": "4f8b5f2d",
   "metadata": {},
   "outputs": [],
   "source": [
    "@local.df_transformation(inputs=[lectures])\n",
    "def process_lecture_files(dir_df):\n",
    "    from io import StringIO\n",
    "    import pandas as pd\n",
    "\n",
    "    lecture_dfs = []\n",
    "    for i, row in dir_df.iterrows():\n",
    "        csv_str = StringIO(row[1])\n",
    "        r_df = pd.read_csv(csv_str, sep=\";\")\n",
    "        r_df[\"filename\"] = row[0]\n",
    "        lecture_dfs.append(r_df)\n",
    "\n",
    "    return pd.concat(lecture_dfs)"
   ]
  },
  {
   "cell_type": "markdown",
   "id": "395f7c23",
   "metadata": {},
   "source": [
    "We can verify this worked as we expected by serving this source as a dataframe and inspecting the results."
   ]
  },
  {
   "cell_type": "code",
   "execution_count": 6,
   "id": "a67f4939",
   "metadata": {},
   "outputs": [
    {
     "name": "stdout",
     "output_type": "stream",
     "text": [
      "Applying Run: confident_minsky\n",
      "Creating provider local-mode \n",
      "Creating source process_lecture_files  confident_minsky\n"
     ]
    },
    {
     "data": {
      "text/html": [
       "<div>\n",
       "<style scoped>\n",
       "    .dataframe tbody tr th:only-of-type {\n",
       "        vertical-align: middle;\n",
       "    }\n",
       "\n",
       "    .dataframe tbody tr th {\n",
       "        vertical-align: top;\n",
       "    }\n",
       "\n",
       "    .dataframe thead th {\n",
       "        text-align: right;\n",
       "    }\n",
       "</style>\n",
       "<table border=\"1\" class=\"dataframe\">\n",
       "  <thead>\n",
       "    <tr style=\"text-align: right;\">\n",
       "      <th></th>\n",
       "      <th>Lecture</th>\n",
       "      <th>Topic</th>\n",
       "      <th>Section</th>\n",
       "      <th>Text</th>\n",
       "      <th>filename</th>\n",
       "    </tr>\n",
       "  </thead>\n",
       "  <tbody>\n",
       "    <tr>\n",
       "      <th>0</th>\n",
       "      <td>7</td>\n",
       "      <td>Public Key Cryptography</td>\n",
       "      <td>Public Key Cryptography I</td>\n",
       "      <td>The basic setting for cryptography is typicall...</td>\n",
       "      <td>Note_7.csv</td>\n",
       "    </tr>\n",
       "    <tr>\n",
       "      <th>1</th>\n",
       "      <td>7</td>\n",
       "      <td>Public Key Cryptography</td>\n",
       "      <td>Public Key Cryptography II</td>\n",
       "      <td>Since the link is insecure, Alice and Bob have...</td>\n",
       "      <td>Note_7.csv</td>\n",
       "    </tr>\n",
       "    <tr>\n",
       "      <th>2</th>\n",
       "      <td>7</td>\n",
       "      <td>Public Key Cryptography</td>\n",
       "      <td>Public Key Cryptography III</td>\n",
       "      <td>The central idea behind the RSA cryptosystem i...</td>\n",
       "      <td>Note_7.csv</td>\n",
       "    </tr>\n",
       "    <tr>\n",
       "      <th>3</th>\n",
       "      <td>7</td>\n",
       "      <td>Public Key Cryptography</td>\n",
       "      <td>Public Key Cryptography IV</td>\n",
       "      <td>The RSA scheme is based heavily on modular ari...</td>\n",
       "      <td>Note_7.csv</td>\n",
       "    </tr>\n",
       "    <tr>\n",
       "      <th>4</th>\n",
       "      <td>7</td>\n",
       "      <td>Public Key Cryptography</td>\n",
       "      <td>Encryption</td>\n",
       "      <td>[Encryption]: When Alice wants to send a messa...</td>\n",
       "      <td>Note_7.csv</td>\n",
       "    </tr>\n",
       "  </tbody>\n",
       "</table>\n",
       "</div>"
      ],
      "text/plain": [
       "   Lecture                    Topic                       Section  \\\n",
       "0        7  Public Key Cryptography     Public Key Cryptography I   \n",
       "1        7  Public Key Cryptography    Public Key Cryptography II   \n",
       "2        7  Public Key Cryptography  Public Key Cryptography III    \n",
       "3        7  Public Key Cryptography    Public Key Cryptography IV   \n",
       "4        7  Public Key Cryptography                    Encryption   \n",
       "\n",
       "                                                Text    filename  \n",
       "0  The basic setting for cryptography is typicall...  Note_7.csv  \n",
       "1  Since the link is insecure, Alice and Bob have...  Note_7.csv  \n",
       "2  The central idea behind the RSA cryptosystem i...  Note_7.csv  \n",
       "3  The RSA scheme is based heavily on modular ari...  Note_7.csv  \n",
       "4  [Encryption]: When Alice wants to send a messa...  Note_7.csv  "
      ]
     },
     "execution_count": 6,
     "metadata": {},
     "output_type": "execute_result"
    }
   ],
   "source": [
    "df = client.dataframe(process_lecture_files)\n",
    "\n",
    "df.head()"
   ]
  },
  {
   "cell_type": "markdown",
   "id": "12710fa4",
   "metadata": {},
   "source": [
    "## Step 3. Entity ID Transformation\n",
    "\n",
    "For our purposes, we'll need a unique identifier for each speakers' comments, so we'll choose `\"Lecture\"`, `\"Section\"` and `\"filename\"` to create a new column, `\"PK\"` (The Primary Key)."
   ]
  },
  {
   "cell_type": "code",
   "execution_count": 7,
   "id": "abbb6305",
   "metadata": {},
   "outputs": [],
   "source": [
    "@local.df_transformation(inputs=[process_lecture_files])\n",
    "def text_primary_key(lectures_df):\n",
    "    lectures_df[\"PK\"] = lectures_df.apply(lambda row: f\"{row['Lecture']}_{row['Section']}_{row['filename']}\", axis=1)\n",
    "    \n",
    "    return lectures_df"
   ]
  },
  {
   "cell_type": "code",
   "execution_count": 8,
   "id": "0b0e1ab6",
   "metadata": {},
   "outputs": [
    {
     "name": "stdout",
     "output_type": "stream",
     "text": [
      "Applying Run: confident_minsky\n",
      "Creating provider local-mode \n",
      "Creating source text_primary_key  confident_minsky\n"
     ]
    },
    {
     "data": {
      "text/html": [
       "<div>\n",
       "<style scoped>\n",
       "    .dataframe tbody tr th:only-of-type {\n",
       "        vertical-align: middle;\n",
       "    }\n",
       "\n",
       "    .dataframe tbody tr th {\n",
       "        vertical-align: top;\n",
       "    }\n",
       "\n",
       "    .dataframe thead th {\n",
       "        text-align: right;\n",
       "    }\n",
       "</style>\n",
       "<table border=\"1\" class=\"dataframe\">\n",
       "  <thead>\n",
       "    <tr style=\"text-align: right;\">\n",
       "      <th></th>\n",
       "      <th>Lecture</th>\n",
       "      <th>Topic</th>\n",
       "      <th>Section</th>\n",
       "      <th>Text</th>\n",
       "      <th>filename</th>\n",
       "      <th>PK</th>\n",
       "    </tr>\n",
       "  </thead>\n",
       "  <tbody>\n",
       "    <tr>\n",
       "      <th>0</th>\n",
       "      <td>7</td>\n",
       "      <td>Public Key Cryptography</td>\n",
       "      <td>Public Key Cryptography I</td>\n",
       "      <td>The basic setting for cryptography is typicall...</td>\n",
       "      <td>Note_7.csv</td>\n",
       "      <td>7_Public Key Cryptography I_Note_7.csv</td>\n",
       "    </tr>\n",
       "    <tr>\n",
       "      <th>1</th>\n",
       "      <td>7</td>\n",
       "      <td>Public Key Cryptography</td>\n",
       "      <td>Public Key Cryptography II</td>\n",
       "      <td>Since the link is insecure, Alice and Bob have...</td>\n",
       "      <td>Note_7.csv</td>\n",
       "      <td>7_Public Key Cryptography II_Note_7.csv</td>\n",
       "    </tr>\n",
       "    <tr>\n",
       "      <th>2</th>\n",
       "      <td>7</td>\n",
       "      <td>Public Key Cryptography</td>\n",
       "      <td>Public Key Cryptography III</td>\n",
       "      <td>The central idea behind the RSA cryptosystem i...</td>\n",
       "      <td>Note_7.csv</td>\n",
       "      <td>7_Public Key Cryptography III _Note_7.csv</td>\n",
       "    </tr>\n",
       "    <tr>\n",
       "      <th>3</th>\n",
       "      <td>7</td>\n",
       "      <td>Public Key Cryptography</td>\n",
       "      <td>Public Key Cryptography IV</td>\n",
       "      <td>The RSA scheme is based heavily on modular ari...</td>\n",
       "      <td>Note_7.csv</td>\n",
       "      <td>7_Public Key Cryptography IV_Note_7.csv</td>\n",
       "    </tr>\n",
       "    <tr>\n",
       "      <th>4</th>\n",
       "      <td>7</td>\n",
       "      <td>Public Key Cryptography</td>\n",
       "      <td>Encryption</td>\n",
       "      <td>[Encryption]: When Alice wants to send a messa...</td>\n",
       "      <td>Note_7.csv</td>\n",
       "      <td>7_Encryption_Note_7.csv</td>\n",
       "    </tr>\n",
       "  </tbody>\n",
       "</table>\n",
       "</div>"
      ],
      "text/plain": [
       "   Lecture                    Topic                       Section  \\\n",
       "0        7  Public Key Cryptography     Public Key Cryptography I   \n",
       "1        7  Public Key Cryptography    Public Key Cryptography II   \n",
       "2        7  Public Key Cryptography  Public Key Cryptography III    \n",
       "3        7  Public Key Cryptography    Public Key Cryptography IV   \n",
       "4        7  Public Key Cryptography                    Encryption   \n",
       "\n",
       "                                                Text    filename  \\\n",
       "0  The basic setting for cryptography is typicall...  Note_7.csv   \n",
       "1  Since the link is insecure, Alice and Bob have...  Note_7.csv   \n",
       "2  The central idea behind the RSA cryptosystem i...  Note_7.csv   \n",
       "3  The RSA scheme is based heavily on modular ari...  Note_7.csv   \n",
       "4  [Encryption]: When Alice wants to send a messa...  Note_7.csv   \n",
       "\n",
       "                                          PK  \n",
       "0     7_Public Key Cryptography I_Note_7.csv  \n",
       "1    7_Public Key Cryptography II_Note_7.csv  \n",
       "2  7_Public Key Cryptography III _Note_7.csv  \n",
       "3    7_Public Key Cryptography IV_Note_7.csv  \n",
       "4                    7_Encryption_Note_7.csv  "
      ]
     },
     "execution_count": 8,
     "metadata": {},
     "output_type": "execute_result"
    }
   ],
   "source": [
    "df = client.dataframe(text_primary_key)\n",
    "\n",
    "df.head()"
   ]
  },
  {
   "cell_type": "markdown",
   "id": "573c9e07",
   "metadata": {},
   "source": [
    "## Step 4. Embeddings Transformation\n",
    "\n",
    "We'll use [`all-MiniLM-L6-v2`](https://huggingface.co/sentence-transformers/all-MiniLM-L6-v2) to create embeddings for each speakers' comments. When we register an entity and associate a feature with this entity, this transformation will be materialized and the embeddings will be persisted in a Pinecone index."
   ]
  },
  {
   "cell_type": "code",
   "execution_count": 9,
   "id": "c72eb2e3",
   "metadata": {},
   "outputs": [],
   "source": [
    "@local.df_transformation(inputs=[text_primary_key])\n",
    "def vectorize_comments(lectures_df):\n",
    "    from sentence_transformers import SentenceTransformer\n",
    "\n",
    "    model = SentenceTransformer(\"all-MiniLM-L6-v2\")\n",
    "    embeddings = model.encode(lectures_df[\"Section\"].tolist())\n",
    "    lectures_df[\"Vector\"] = embeddings.tolist()\n",
    "    \n",
    "    return lectures_df"
   ]
  },
  {
   "cell_type": "markdown",
   "id": "04bb6af7",
   "metadata": {},
   "source": [
    "## Step 5. Register Pinecone\n",
    "\n",
    "We'll be using Pinecone for this example, but you can also choose to use Weaviate.\n",
    "\n",
    "This step assumes you have a `.env` file with your Pinecone credentials."
   ]
  },
  {
   "cell_type": "code",
   "execution_count": 10,
   "id": "c6c5471c",
   "metadata": {},
   "outputs": [],
   "source": [
    "import dotenv\n",
    "import os\n",
    "\n",
    "dotenv.load_dotenv(\".env\")\n",
    "\n",
    "pinecone = ff.register_pinecone(\n",
    "    name=\"pinecone\",\n",
    "    project_id=os.getenv(\"PINECONE_PROJECT_ID\", \"\"),\n",
    "    environment=os.getenv(\"PINECONE_ENVIRONMENT\", \"\"),\n",
    "    api_key=os.getenv(\"PINECONE_API_KEY\", \"\"),\n",
    ")"
   ]
  },
  {
   "cell_type": "code",
   "execution_count": 11,
   "id": "191b655b",
   "metadata": {},
   "outputs": [
    {
     "name": "stdout",
     "output_type": "stream",
     "text": [
      "Applying Run: confident_minsky\n",
      "Creating provider local-mode \n",
      "Creating provider pinecone \n",
      "Creating source vectorize_comments  confident_minsky\n"
     ]
    }
   ],
   "source": [
    "client.apply()"
   ]
  },
  {
   "cell_type": "markdown",
   "id": "b4f0308b",
   "metadata": {},
   "source": [
    "## Step 6. Register Entity, Features, and Embeddings and write them to Vector DB.\n",
    "\n",
    "We'll now register an entity and a feature, which will kick off the materialization process.\n",
    "\n",
    "**NOTE:**\n",
    "This may take some time to complete. See the progress bar for status."
   ]
  },
  {
   "cell_type": "code",
   "execution_count": 12,
   "id": "eef327c8",
   "metadata": {},
   "outputs": [],
   "source": [
    "@ff.entity\n",
    "class Text:\n",
    "    comment_embeddings = ff.Embedding(\n",
    "        vectorize_comments[[\"PK\", \"Vector\"]],\n",
    "        dims=384,\n",
    "        vector_db=pinecone,\n",
    "        description=\"Embeddings created from text in notes\",\n",
    "        variant=\"v2\"\n",
    "    )\n",
    "    comments = ff.Feature(\n",
    "        text_primary_key[[\"PK\", \"Text\"]],\n",
    "        type=ff.String,\n",
    "        description=\"Lecture notes text\",\n",
    "        variant=\"v2\"\n",
    "    )"
   ]
  },
  {
   "cell_type": "code",
   "execution_count": 13,
   "id": "d8300b5f",
   "metadata": {},
   "outputs": [
    {
     "name": "stdout",
     "output_type": "stream",
     "text": [
      "Requirement already satisfied: pinecone-client in /home/smiley/anaconda3/lib/python3.9/site-packages (2.2.2)\n",
      "Requirement already satisfied: numpy>=1.22.0 in /home/smiley/anaconda3/lib/python3.9/site-packages (from pinecone-client) (1.22.0)\n",
      "Requirement already satisfied: urllib3>=1.21.1 in /home/smiley/anaconda3/lib/python3.9/site-packages (from pinecone-client) (1.26.9)\n",
      "Requirement already satisfied: typing-extensions>=3.7.4 in /home/smiley/anaconda3/lib/python3.9/site-packages (from pinecone-client) (4.1.1)\n",
      "Requirement already satisfied: python-dateutil>=2.5.3 in /home/smiley/anaconda3/lib/python3.9/site-packages (from pinecone-client) (2.8.2)\n",
      "Requirement already satisfied: requests>=2.19.0 in /home/smiley/anaconda3/lib/python3.9/site-packages (from pinecone-client) (2.31.0)\n",
      "Requirement already satisfied: loguru>=0.5.0 in /home/smiley/anaconda3/lib/python3.9/site-packages (from pinecone-client) (0.7.0)\n",
      "Requirement already satisfied: pyyaml>=5.4 in /home/smiley/anaconda3/lib/python3.9/site-packages (from pinecone-client) (6.0)\n",
      "Requirement already satisfied: tqdm>=4.64.1 in /home/smiley/anaconda3/lib/python3.9/site-packages (from pinecone-client) (4.65.0)\n",
      "Requirement already satisfied: dnspython>=2.0.0 in /home/smiley/anaconda3/lib/python3.9/site-packages (from pinecone-client) (2.3.0)\n",
      "Requirement already satisfied: six>=1.5 in /home/smiley/anaconda3/lib/python3.9/site-packages (from python-dateutil>=2.5.3->pinecone-client) (1.16.0)\n",
      "Requirement already satisfied: certifi>=2017.4.17 in /home/smiley/anaconda3/lib/python3.9/site-packages (from requests>=2.19.0->pinecone-client) (2021.10.8)\n",
      "Requirement already satisfied: idna<4,>=2.5 in /home/smiley/anaconda3/lib/python3.9/site-packages (from requests>=2.19.0->pinecone-client) (3.3)\n",
      "Requirement already satisfied: charset-normalizer<4,>=2 in /home/smiley/anaconda3/lib/python3.9/site-packages (from requests>=2.19.0->pinecone-client) (2.0.4)\n"
     ]
    }
   ],
   "source": [
    "!pip install pinecone-client"
   ]
  },
  {
   "cell_type": "code",
   "execution_count": 14,
   "id": "71a1b0f8",
   "metadata": {
    "scrolled": false
   },
   "outputs": [
    {
     "name": "stdout",
     "output_type": "stream",
     "text": [
      "Applying Run: confident_minsky\n",
      "Creating provider local-mode \n",
      "Creating entity text \n",
      "Creating feature comment_embeddings  v2\n",
      "Creating feature comments  v2\n"
     ]
    },
    {
     "name": "stderr",
     "output_type": "stream",
     "text": [
      "ResourceWarning: unclosed <ssl.SSLSocket fd=65, family=AddressFamily.AF_INET, type=SocketKind.SOCK_STREAM, proto=6, laddr=('10.142.146.242', 42342), raddr=('35.247.126.212', 443)>\n",
      "SettingWithCopyWarning: \n",
      "A value is trying to be set on a copy of a slice from a DataFrame\n",
      "\n",
      "See the caveats in the documentation: https://pandas.pydata.org/pandas-docs/stable/user_guide/indexing.html#returning-a-view-versus-a-copy\n",
      "SettingWithCopyWarning: \n",
      "A value is trying to be set on a copy of a slice from a DataFrame\n",
      "\n",
      "See the caveats in the documentation: https://pandas.pydata.org/pandas-docs/stable/user_guide/indexing.html#returning-a-view-versus-a-copy\n"
     ]
    },
    {
     "name": "stdout",
     "output_type": "stream",
     "text": [
      "Updating Feature Table: |██------------------------------------------------| 5% Complete"
     ]
    },
    {
     "name": "stderr",
     "output_type": "stream",
     "text": [
      "ResourceWarning: unclosed <ssl.SSLSocket fd=61, family=AddressFamily.AF_INET, type=SocketKind.SOCK_STREAM, proto=6, laddr=('10.142.146.242', 42026), raddr=('35.247.126.212', 443)>\n"
     ]
    },
    {
     "name": "stdout",
     "output_type": "stream",
     "text": [
      "Updating Feature Table: |███████-------------------------------------------| 14% Complete"
     ]
    },
    {
     "name": "stderr",
     "output_type": "stream",
     "text": [
      "ResourceWarning: unclosed <ssl.SSLSocket fd=62, family=AddressFamily.AF_INET, type=SocketKind.SOCK_STREAM, proto=6, laddr=('10.142.146.242', 42046), raddr=('35.247.126.212', 443)>\n",
      "ResourceWarning: unclosed <ssl.SSLSocket fd=63, family=AddressFamily.AF_INET, type=SocketKind.SOCK_STREAM, proto=6, laddr=('10.142.146.242', 42058), raddr=('35.247.126.212', 443)>\n"
     ]
    },
    {
     "name": "stdout",
     "output_type": "stream",
     "text": [
      "Updating Feature Table: |███████████---------------------------------------| 23% Complete"
     ]
    },
    {
     "name": "stderr",
     "output_type": "stream",
     "text": [
      "ResourceWarning: unclosed <ssl.SSLSocket fd=63, family=AddressFamily.AF_INET, type=SocketKind.SOCK_STREAM, proto=6, laddr=('10.142.146.242', 42090), raddr=('35.247.126.212', 443)>\n",
      "ResourceWarning: unclosed <ssl.SSLSocket fd=64, family=AddressFamily.AF_INET, type=SocketKind.SOCK_STREAM, proto=6, laddr=('10.142.146.242', 42096), raddr=('35.247.126.212', 443)>\n"
     ]
    },
    {
     "name": "stdout",
     "output_type": "stream",
     "text": [
      "Updating Feature Table: |--------------------------------------------------| 0% Completee"
     ]
    },
    {
     "name": "stderr",
     "output_type": "stream",
     "text": [
      "ResourceWarning: unclosed <ssl.SSLSocket fd=64, family=AddressFamily.AF_INET, type=SocketKind.SOCK_STREAM, proto=6, laddr=('10.142.146.242', 42120), raddr=('35.247.126.212', 443)>\n",
      "ResourceWarning: unclosed <ssl.SSLSocket fd=65, family=AddressFamily.AF_INET, type=SocketKind.SOCK_STREAM, proto=6, laddr=('10.142.146.242', 42124), raddr=('35.247.126.212', 443)>\n"
     ]
    },
    {
     "name": "stdout",
     "output_type": "stream",
     "text": [
      "Updating Feature Table: |████----------------------------------------------| 8% Complete"
     ]
    },
    {
     "name": "stderr",
     "output_type": "stream",
     "text": [
      "ResourceWarning: unclosed <ssl.SSLSocket fd=65, family=AddressFamily.AF_INET, type=SocketKind.SOCK_STREAM, proto=6, laddr=('10.142.146.242', 42146), raddr=('35.247.126.212', 443)>\n",
      "ResourceWarning: unclosed <ssl.SSLSocket fd=66, family=AddressFamily.AF_INET, type=SocketKind.SOCK_STREAM, proto=6, laddr=('10.142.146.242', 42148), raddr=('35.247.126.212', 443)>\n"
     ]
    },
    {
     "name": "stdout",
     "output_type": "stream",
     "text": [
      "Updating Feature Table: |████████------------------------------------------| 17% Complete"
     ]
    },
    {
     "name": "stderr",
     "output_type": "stream",
     "text": [
      "ResourceWarning: unclosed <ssl.SSLSocket fd=66, family=AddressFamily.AF_INET, type=SocketKind.SOCK_STREAM, proto=6, laddr=('10.142.146.242', 42166), raddr=('35.247.126.212', 443)>\n",
      "ResourceWarning: unclosed <ssl.SSLSocket fd=67, family=AddressFamily.AF_INET, type=SocketKind.SOCK_STREAM, proto=6, laddr=('10.142.146.242', 42176), raddr=('35.247.126.212', 443)>\n"
     ]
    },
    {
     "name": "stdout",
     "output_type": "stream",
     "text": [
      "Updating Feature Table: |███████████---------------------------------------| 23% Complete"
     ]
    },
    {
     "name": "stderr",
     "output_type": "stream",
     "text": [
      "ResourceWarning: unclosed <ssl.SSLSocket fd=67, family=AddressFamily.AF_INET, type=SocketKind.SOCK_STREAM, proto=6, laddr=('10.142.146.242', 42194), raddr=('35.247.126.212', 443)>\n"
     ]
    },
    {
     "name": "stdout",
     "output_type": "stream",
     "text": [
      "Updating Feature Table: |██------------------------------------------------| 5% Complete"
     ]
    },
    {
     "name": "stderr",
     "output_type": "stream",
     "text": [
      "ResourceWarning: unclosed <ssl.SSLSocket fd=60, family=AddressFamily.AF_INET, type=SocketKind.SOCK_STREAM, proto=6, laddr=('10.142.146.242', 42014), raddr=('35.247.126.212', 443)>\n",
      "ResourceWarning: unclosed <ssl.SSLSocket fd=59, family=AddressFamily.AF_INET, type=SocketKind.SOCK_STREAM, proto=6, laddr=('10.142.146.242', 42016), raddr=('35.247.126.212', 443)>\n",
      "ResourceWarning: unclosed <ssl.SSLSocket fd=61, family=AddressFamily.AF_INET, type=SocketKind.SOCK_STREAM, proto=6, laddr=('10.142.146.242', 42032), raddr=('35.247.126.212', 443)>\n",
      "ResourceWarning: unclosed <ssl.SSLSocket fd=62, family=AddressFamily.AF_INET, type=SocketKind.SOCK_STREAM, proto=6, laddr=('10.142.146.242', 42074), raddr=('35.247.126.212', 443)>\n",
      "ResourceWarning: unclosed <ssl.SSLSocket fd=63, family=AddressFamily.AF_INET, type=SocketKind.SOCK_STREAM, proto=6, laddr=('10.142.146.242', 42108), raddr=('35.247.126.212', 443)>\n",
      "ResourceWarning: unclosed <ssl.SSLSocket fd=64, family=AddressFamily.AF_INET, type=SocketKind.SOCK_STREAM, proto=6, laddr=('10.142.146.242', 42136), raddr=('35.247.126.212', 443)>\n",
      "ResourceWarning: unclosed <ssl.SSLSocket fd=65, family=AddressFamily.AF_INET, type=SocketKind.SOCK_STREAM, proto=6, laddr=('10.142.146.242', 42160), raddr=('35.247.126.212', 443)>\n",
      "ResourceWarning: unclosed <ssl.SSLSocket fd=66, family=AddressFamily.AF_INET, type=SocketKind.SOCK_STREAM, proto=6, laddr=('10.142.146.242', 42186), raddr=('35.247.126.212', 443)>\n",
      "ResourceWarning: unclosed <ssl.SSLSocket fd=67, family=AddressFamily.AF_INET, type=SocketKind.SOCK_STREAM, proto=6, laddr=('10.142.146.242', 42204), raddr=('35.247.126.212', 443)>\n",
      "ResourceWarning: unclosed <ssl.SSLSocket fd=68, family=AddressFamily.AF_INET, type=SocketKind.SOCK_STREAM, proto=6, laddr=('10.142.146.242', 42216), raddr=('35.247.126.212', 443)>\n",
      "ResourceWarning: unclosed <ssl.SSLSocket fd=69, family=AddressFamily.AF_INET, type=SocketKind.SOCK_STREAM, proto=6, laddr=('10.142.146.242', 42226), raddr=('35.247.126.212', 443)>\n"
     ]
    },
    {
     "name": "stdout",
     "output_type": "stream",
     "text": [
      "Updating Feature Table: |███████-------------------------------------------| 14% Complete"
     ]
    },
    {
     "name": "stderr",
     "output_type": "stream",
     "text": [
      "ResourceWarning: unclosed <ssl.SSLSocket fd=60, family=AddressFamily.AF_INET, type=SocketKind.SOCK_STREAM, proto=6, laddr=('10.142.146.242', 42236), raddr=('35.247.126.212', 443)>\n",
      "ResourceWarning: unclosed <ssl.SSLSocket fd=61, family=AddressFamily.AF_INET, type=SocketKind.SOCK_STREAM, proto=6, laddr=('10.142.146.242', 42240), raddr=('35.247.126.212', 443)>\n"
     ]
    },
    {
     "name": "stdout",
     "output_type": "stream",
     "text": [
      "Updating Feature Table: |███████████---------------------------------------| 23% Complete"
     ]
    },
    {
     "name": "stderr",
     "output_type": "stream",
     "text": [
      "ResourceWarning: unclosed <ssl.SSLSocket fd=61, family=AddressFamily.AF_INET, type=SocketKind.SOCK_STREAM, proto=6, laddr=('10.142.146.242', 42256), raddr=('35.247.126.212', 443)>\n",
      "ResourceWarning: unclosed <ssl.SSLSocket fd=62, family=AddressFamily.AF_INET, type=SocketKind.SOCK_STREAM, proto=6, laddr=('10.142.146.242', 42264), raddr=('35.247.126.212', 443)>\n"
     ]
    },
    {
     "name": "stdout",
     "output_type": "stream",
     "text": [
      "Updating Feature Table: |████████████████----------------------------------| 32% Complete"
     ]
    },
    {
     "name": "stderr",
     "output_type": "stream",
     "text": [
      "ResourceWarning: unclosed <ssl.SSLSocket fd=62, family=AddressFamily.AF_INET, type=SocketKind.SOCK_STREAM, proto=6, laddr=('10.142.146.242', 42276), raddr=('35.247.126.212', 443)>\n",
      "ResourceWarning: unclosed <ssl.SSLSocket fd=63, family=AddressFamily.AF_INET, type=SocketKind.SOCK_STREAM, proto=6, laddr=('10.142.146.242', 42278), raddr=('35.247.126.212', 443)>\n"
     ]
    },
    {
     "name": "stdout",
     "output_type": "stream",
     "text": [
      "Updating Feature Table: |██████████████████████████████████████████████████| 100% Complete\n",
      "\n",
      "Updating Feature Table: |██████████████████████████████████████████████████| 100% Complete\n",
      "\n"
     ]
    },
    {
     "name": "stderr",
     "output_type": "stream",
     "text": [
      "ResourceWarning: unclosed <ssl.SSLSocket fd=63, family=AddressFamily.AF_INET, type=SocketKind.SOCK_STREAM, proto=6, laddr=('10.142.146.242', 42296), raddr=('35.247.126.212', 443)>\n",
      "ResourceWarning: unclosed <ssl.SSLSocket fd=64, family=AddressFamily.AF_INET, type=SocketKind.SOCK_STREAM, proto=6, laddr=('10.142.146.242', 42302), raddr=('35.247.126.212', 443)>\n"
     ]
    }
   ],
   "source": [
    "client.apply()"
   ]
  },
  {
   "cell_type": "markdown",
   "id": "8cdf3e4c",
   "metadata": {},
   "source": [
    "## Step 7. Register On-Demand Features to Retrieve Relevent Context\n",
    "\n",
    "We'll want to query the embeddings we created and then fetch their related docs and we can do so using Featureform's on-demand feature decorator. This creates a feature that's calculated on the client at serving time."
   ]
  },
  {
   "cell_type": "code",
   "execution_count": 15,
   "id": "1a9fb88f",
   "metadata": {},
   "outputs": [],
   "source": [
    "@ff.ondemand_feature(variant=\"calhacks\")\n",
    "def relevent_comments(client, params, entity):\n",
    "    from sentence_transformers import SentenceTransformer\n",
    "\n",
    "    model = SentenceTransformer(\"all-MiniLM-L6-v2\")\n",
    "    search_vector = model.encode(params[\"query\"])\n",
    "    res = client.nearest(\"comment_embeddings\", \"v2\", search_vector, k=3)\n",
    "    return res"
   ]
  },
  {
   "cell_type": "code",
   "execution_count": 16,
   "id": "9a1d378c",
   "metadata": {},
   "outputs": [],
   "source": [
    "@ff.ondemand_feature(variant=\"calhack\")\n",
    "def contextualized_prompt(client, params, entity):\n",
    "    pks = client.features([(\"relevent_comments\", \"calhacks\")], {}, params=params)\n",
    "    prompt = \"Use the following snippets from the lecture notes to answer the following question\\n\"\n",
    "    for pk in pks[0]:\n",
    "        prompt += \"```\"\n",
    "        prompt += client.features([(\"comments\", \"v2\")], {\"Text\": pk})[0]\n",
    "        prompt += \"```\\n\"\n",
    "    prompt += \"Question: \"\n",
    "    prompt += params[\"query\"]\n",
    "    prompt += \"?\"\n",
    "    return prompt\n"
   ]
  },
  {
   "cell_type": "code",
   "execution_count": 23,
   "id": "98708b08",
   "metadata": {},
   "outputs": [
    {
     "name": "stdout",
     "output_type": "stream",
     "text": [
      "Please enter the question:Prove improvement lemma\n",
      "Applying Run: confident_minsky\n",
      "Creating provider local-mode \n"
     ]
    },
    {
     "name": "stderr",
     "output_type": "stream",
     "text": [
      "ResourceWarning: unclosed <ssl.SSLSocket fd=64, family=AddressFamily.AF_INET, type=SocketKind.SOCK_STREAM, proto=6, laddr=('10.142.146.242', 55652), raddr=('35.247.126.212', 443)>\n",
      "ResourceWarning: unclosed <ssl.SSLSocket fd=65, family=AddressFamily.AF_INET, type=SocketKind.SOCK_STREAM, proto=6, laddr=('10.142.146.242', 55656), raddr=('35.247.126.212', 443)>\n",
      "ResourceWarning: unclosed <ssl.SSLSocket fd=65, family=AddressFamily.AF_INET, type=SocketKind.SOCK_STREAM, proto=6, laddr=('10.142.146.242', 41930), raddr=('35.247.126.212', 443)>\n",
      "ResourceWarning: unclosed <ssl.SSLSocket fd=65, family=AddressFamily.AF_INET, type=SocketKind.SOCK_STREAM, proto=6, laddr=('10.142.146.242', 41944), raddr=('35.247.126.212', 443)>\n",
      "ResourceWarning: unclosed socket <zmq.Socket(zmq.PUSH) at 0x7f3714487100>\n"
     ]
    },
    {
     "name": "stdout",
     "output_type": "stream",
     "text": [
      "Applying Run: confident_minsky\n",
      "Creating provider local-mode \n"
     ]
    },
    {
     "name": "stderr",
     "output_type": "stream",
     "text": [
      "ResourceWarning: unclosed <ssl.SSLSocket fd=65, family=AddressFamily.AF_INET, type=SocketKind.SOCK_STREAM, proto=6, laddr=('10.142.146.242', 41954), raddr=('35.247.126.212', 443)>\n",
      "ResourceWarning: unclosed <ssl.SSLSocket fd=68, family=AddressFamily.AF_INET, type=SocketKind.SOCK_STREAM, proto=6, laddr=('10.142.146.242', 41956), raddr=('35.247.126.212', 443)>\n",
      "ResourceWarning: unclosed <ssl.SSLSocket fd=68, family=AddressFamily.AF_INET, type=SocketKind.SOCK_STREAM, proto=6, laddr=('10.142.146.242', 41978), raddr=('35.247.126.212', 443)>\n",
      "ResourceWarning: unclosed <ssl.SSLSocket fd=68, family=AddressFamily.AF_INET, type=SocketKind.SOCK_STREAM, proto=6, laddr=('10.142.146.242', 41994), raddr=('35.247.126.212', 443)>\n"
     ]
    },
    {
     "data": {
      "text/plain": [
       "array(['Use the following snippets from the lecture notes to answer the following question\\n```Theorem 4.2. The matching output by the Propose-and-Reject algorithm is job/employer optimal. Proof. Suppose for sake of contradiction that the matching is not employer optimal. Then, there exists a day on which some job had its offer rejected by its optimal candidate. Let day k be the first such day. On this day, suppose J was rejected by C∗ (its optimal candidate) in favor of an offer from J∗. By the definition of optimal candidate, there must exist a stable matching T in which J and C∗ are paired together. Suppose T looks like this: {. . . , (J,C∗), . . . , (J∗,C′), . . .}. We will argue that (J∗,C∗) is a rogue couple in T , thus contradicting stability. First, it is clear that C∗ prefers J∗ to J, since she rejected an offer from J in favor of an offer from J∗ during the execution of the propose-and-reject algorithm. Moreover, since day k was the first day when some job had an offer rejected by its optimal candidate, before day k, job J∗ had not had its offer rejected by its optimal candidate. Since J∗ made an offer to C∗ on day k, this implies that J∗ likes C∗ at least as much as its optimal candidate, and therefore at least as much as C′ (its partner in the stable matching T ). Therefore, (J∗,C∗) form a rogue couple in T , and so T is not stable. Thus, we have a contradiction, implying the matching output by the propose-and-reject algorithm must be employer/job optimal.```\\n```Theorem 4.3. If a matching is employer/job optimal, then it is also candidate pessimal. Proof. We proceed by contradiction. Let T = {. . . , (J,C), . . .} be the employer optimal matching (which we know from Theorem 4.2 is output by the algorithm). Suppose for the sake of contradiction that there exists a stable matching S = {. . . , (J∗,C), . . . , (J,C′), . . .} such that job J∗ is lower-ranked on C’s preference list than job J (i.e., J is not her pessimal job). We will argue that S cannot be stable by showing that (J,C) is a rogue couple in S. By assumption, C prefers job J to J∗ since J∗ is lower on her list. And J prefers candidate C to its partner C′ in S because C is its partner in the employer optimal matching T. Contradiction. Therefore, the employer optimal matching is candidate pessimal.```\\n```Definition 4.3 (Optimal job for a candidate). For a given candidate C, the optimal job for C is the highest-ranked job on C’s preference list that C could be paired with in any stable matching. In other words, the optimal job is the best job that a candidate could get in a matching, given that the matching is stable. We can also go in the opposite direction and define the pessimal candidate for a job to be the lowest ranked candidate that it is ever paired with in some stable matching. This leads naturally to the notion of a employer pessimal matching.```\\nQuestion: Prove improvement lemma?'],\n",
       "      dtype='<U2902')"
      ]
     },
     "execution_count": 23,
     "metadata": {},
     "output_type": "execute_result"
    }
   ],
   "source": [
    "# input_query = \"complement\"\n",
    "input_query = input(\"Please enter the question:\")\n",
    "\n",
    "client.apply()\n",
    "client.features([(\"relevent_comments\", \"calhacks\")], {}, params={\"query\": input_query})\n",
    "\n",
    "client.apply()\n",
    "client.features([(\"contextualized_prompt\", \"calhack\")], {}, params={\"query\": input_query})\n"
   ]
  },
  {
   "cell_type": "markdown",
   "id": "d4a0be59",
   "metadata": {},
   "source": [
    "# Feeding into OpenAI!"
   ]
  },
  {
   "cell_type": "code",
   "execution_count": 24,
   "id": "70ec45d5",
   "metadata": {},
   "outputs": [
    {
     "name": "stdout",
     "output_type": "stream",
     "text": [
      "Applying Run: confident_minsky\n",
      "Creating provider local-mode \n"
     ]
    },
    {
     "name": "stderr",
     "output_type": "stream",
     "text": [
      "ResourceWarning: unclosed <ssl.SSLSocket fd=68, family=AddressFamily.AF_INET, type=SocketKind.SOCK_STREAM, proto=6, laddr=('10.142.146.242', 41998), raddr=('35.247.126.212', 443)>\n",
      "ResourceWarning: unclosed <ssl.SSLSocket fd=69, family=AddressFamily.AF_INET, type=SocketKind.SOCK_STREAM, proto=6, laddr=('10.142.146.242', 42012), raddr=('35.247.126.212', 443)>\n",
      "ResourceWarning: unclosed <ssl.SSLSocket fd=65, family=AddressFamily.AF_INET, type=SocketKind.SOCK_STREAM, proto=6, laddr=('10.142.146.242', 52390), raddr=('35.247.126.212', 443)>\n",
      "ResourceWarning: unclosed socket <zmq.Socket(zmq.PUSH) at 0x7f373e7dbca0>\n",
      "ResourceWarning: unclosed <ssl.SSLSocket fd=68, family=AddressFamily.AF_INET, type=SocketKind.SOCK_STREAM, proto=6, laddr=('10.142.146.242', 52414), raddr=('35.247.126.212', 443)>\n"
     ]
    },
    {
     "name": "stdout",
     "output_type": "stream",
     "text": [
      "\n",
      "\n",
      "Improvement Lemma. If a job-candidate pair (J1, C1) is not a rogue couple in some stable matching T, and (J2, C2) is not a rogue couple in some other stable matching S, then replacing (J1, C1) by (J2, C2) in either T or S will yield a new stable matching M.\n",
      "\n",
      "Proof. Suppose for sake of contradiction that (J1, C1) is not a rogue couple in some stable matching T, and (J2, C2) is not a rogue couple in some other stable matching S, and replacing (J1, C1) by (J2, C2) in either T or S will not yield a new stable matching M. \n",
      "\n",
      "If (J1, C1) is replaced by (J2, C2) in T, then we can create an equivalent stable matching where J2 prefers C1 to C2 which is a contradiction to the assumption.\n",
      "\n",
      "If (J1, C1) is replaced by (J2, C2) in S, then we can create an equivalent stable matching where C2 prefers J1 to J2 which is a contradiction to the assumption. \n",
      "\n",
      "Thus, the replacement of (J1, C1) by (J2, C2) must yield a new stable matching M.\n"
     ]
    }
   ],
   "source": [
    "client.apply()\n",
    "# q = \"What should I know about \" + input_query\n",
    "q = input_query\n",
    "prompt = client.features([(\"contextualized_prompt\", \"calhack\")], {}, params={\"query\": q})[0]\n",
    "import openai\n",
    "#openai.organization = os.getenv(\"OPENAI_ORG\", \"\")\n",
    "openai.api_key = os.getenv(\"OPENAI_KEY\", \"\")\n",
    "\n",
    "print(openai.Completion.create(\n",
    "    model=\"text-davinci-003\",\n",
    "    prompt=prompt,\n",
    "    max_tokens=1000, # The max number of tokens to generate\n",
    "    temperature=1.0 # A measure of randomness\n",
    ")[\"choices\"][0][\"text\"])"
   ]
  },
  {
   "cell_type": "code",
   "execution_count": null,
   "id": "965539cd",
   "metadata": {},
   "outputs": [],
   "source": []
  },
  {
   "cell_type": "code",
   "execution_count": null,
   "id": "96daebf9",
   "metadata": {},
   "outputs": [],
   "source": []
  }
 ],
 "metadata": {
  "kernelspec": {
   "display_name": "Python 3 (ipykernel)",
   "language": "python",
   "name": "python3"
  },
  "language_info": {
   "codemirror_mode": {
    "name": "ipython",
    "version": 3
   },
   "file_extension": ".py",
   "mimetype": "text/x-python",
   "name": "python",
   "nbconvert_exporter": "python",
   "pygments_lexer": "ipython3",
   "version": "3.9.12"
  }
 },
 "nbformat": 4,
 "nbformat_minor": 5
}
