{
 "cells": [
  {
   "cell_type": "markdown",
   "id": "423f0449",
   "metadata": {},
   "source": [
    "# TAid QA Chatbot\n",
    "\n",
    "TAid course-oriented chatbot that aims to help answering course-related conceptual questions. It is built on Feature Forms's MLOps implementation and uses vectorised course material to provide more context.\n",
    "\n",
    "## Requirements\n",
    "\n",
    "* Python 3.7+\n",
    "* PyPI (pip3 install PyPI)\n",
    "* python-dotenv 1.0.0 (pip3 install python-dotenv 1.0.0)\n",
    "* featureform (pip3 install featureform)\n",
    "* Hugging Face sentence-transformers  (pip3 install sentence-transformers)\n",
    "* daal4y (pip3 install daal4py)\n",
    "* openai (pip3 install openai)\n",
    "* `.env` file with one or both sets of credentials from Pinecone/Weaviate and openAI credentials\n"
   ]
  },
  {
   "cell_type": "markdown",
   "id": "9d69ea8b",
   "metadata": {},
   "source": [
    "```\n",
    "pip3 install PyPI\n",
    "pip3 install python-dotenv 1.0.0\n",
    "pip3 install featureform\n",
    "pip3 install sentence-transformers\n",
    "pip3 install daal4py\n",
    "pip3 install openai\n",
    "```"
   ]
  },
  {
   "cell_type": "markdown",
   "id": "264beae7",
   "metadata": {},
   "source": [
    "## .env Credentials\n",
    "\n",
    "[Pinecone](https://www.pinecone.io/) \n",
    "\n",
    "PINECONE_PROJECT_ID=\n",
    "\n",
    "PINECONE_ENVIRONMENT=\n",
    "\n",
    "PINECONE_API_KEY=\n",
    "\n",
    "\n",
    "[Weaviate](https://weaviate.io/)\n",
    "\n",
    "WEAVIATE_URL=\n",
    "\n",
    "WEAVIATE_API_KEY=\n",
    "\n",
    "\n",
    "[openAI](https://platform.openai.com/)\n",
    "\n",
    "OPENAI_KEY="
   ]
  },
  {
   "cell_type": "markdown",
   "id": "56bf4382",
   "metadata": {},
   "source": [
    "## Step  1. Register Source\n",
    "\n",
    "`data/files` is a directory of CSV files, which use `;` as a delimiter and hold lecture notes of the a certain course (In this example, the notes of CS70 are used). Each row is a section, a subsection, or a subsubsection depending on the smallest unit in the notes's outline.\n",
    "\n",
    "* Lecture\n",
    "* Topic\n",
    "* Section\n",
    "* Text\n",
    "* filename\n"
   ]
  },
  {
   "cell_type": "code",
   "execution_count": 2,
   "id": "845783c1",
   "metadata": {},
   "outputs": [
    {
     "name": "stderr",
     "output_type": "stream",
     "text": [
      "TqdmExperimentalWarning: Using `tqdm.autonotebook.tqdm` in notebook mode. Use `tqdm.tqdm` instead to force console mode (e.g. in jupyter console)\n"
     ]
    }
   ],
   "source": [
    "import featureform as ff\n",
    "from featureform import local\n",
    "\n",
    "client = ff.Client(local=True)"
   ]
  },
  {
   "cell_type": "markdown",
   "id": "f5a85622",
   "metadata": {},
   "source": [
    "**NOTE:** We'll create an instance of the client to register resources as we define them.\n",
    "\n",
    "**NOTE:** The register saves the data in a `.featureform` folder. It is recommended to delete the folder and have a fresh start with every run."
   ]
  },
  {
   "cell_type": "code",
   "execution_count": 3,
   "id": "288939b7",
   "metadata": {},
   "outputs": [],
   "source": [
    "lectures = local.register_directory(\n",
    "    name=\"notes\",\n",
    "    path=\"data/files\",\n",
    "    description=\"CS70 Notes\",\n",
    ")"
   ]
  },
  {
   "cell_type": "code",
   "execution_count": 4,
   "id": "88a1d1e3",
   "metadata": {},
   "outputs": [
    {
     "name": "stdout",
     "output_type": "stream",
     "text": [
      "Applying Run: zealous_mclean\n",
      "Creating user default_user \n",
      "Creating provider local-mode \n",
      "Creating source notes  zealous_mclean\n"
     ]
    },
    {
     "data": {
      "text/html": [
       "<div>\n",
       "<style scoped>\n",
       "    .dataframe tbody tr th:only-of-type {\n",
       "        vertical-align: middle;\n",
       "    }\n",
       "\n",
       "    .dataframe tbody tr th {\n",
       "        vertical-align: top;\n",
       "    }\n",
       "\n",
       "    .dataframe thead th {\n",
       "        text-align: right;\n",
       "    }\n",
       "</style>\n",
       "<table border=\"1\" class=\"dataframe\">\n",
       "  <thead>\n",
       "    <tr style=\"text-align: right;\">\n",
       "      <th></th>\n",
       "      <th>filename</th>\n",
       "      <th>body</th>\n",
       "    </tr>\n",
       "  </thead>\n",
       "  <tbody>\n",
       "    <tr>\n",
       "      <th>0</th>\n",
       "      <td>Note_0.csv</td>\n",
       "      <td>Lecture;Topic;Section;Text\\n0;Review of Sets;I...</td>\n",
       "    </tr>\n",
       "  </tbody>\n",
       "</table>\n",
       "</div>"
      ],
      "text/plain": [
       "     filename                                               body\n",
       "0  Note_0.csv  Lecture;Topic;Section;Text\\n0;Review of Sets;I..."
      ]
     },
     "execution_count": 4,
     "metadata": {},
     "output_type": "execute_result"
    }
   ],
   "source": [
    "client.dataframe(lectures)"
   ]
  },
  {
   "cell_type": "markdown",
   "id": "9c0b0c7f",
   "metadata": {},
   "source": [
    "**NOTE:** The next cell doesn't need to be ran. Run it only if you need to access featureform's dashboard."
   ]
  },
  {
   "cell_type": "code",
   "execution_count": 5,
   "id": "dcdb0f5a",
   "metadata": {},
   "outputs": [],
   "source": [
    "#!featureform dash"
   ]
  },
  {
   "cell_type": "markdown",
   "id": "bec0f7fb",
   "metadata": {},
   "source": [
    "## Step 2. Transform Transcripts\n",
    "\n",
    "When registering a directory, files are converted into a table with columns `\"filename\"` and `\"body\"`. This is helpful for avoiding the situation where we need to register many files; however, in our case, we'll need to process this table to get it ready for vectorization."
   ]
  },
  {
   "cell_type": "code",
   "execution_count": 6,
   "id": "4f8b5f2d",
   "metadata": {},
   "outputs": [],
   "source": [
    "@local.df_transformation(inputs=[lectures])\n",
    "def process_lecture_files(dir_df):\n",
    "    from io import StringIO\n",
    "    import pandas as pd\n",
    "\n",
    "    lecture_dfs = []\n",
    "    for i, row in dir_df.iterrows():\n",
    "        csv_str = StringIO(row[1])\n",
    "        r_df = pd.read_csv(csv_str, sep=\";\")\n",
    "        r_df[\"filename\"] = row[0]\n",
    "        lecture_dfs.append(r_df)\n",
    "\n",
    "    return pd.concat(lecture_dfs)"
   ]
  },
  {
   "cell_type": "markdown",
   "id": "395f7c23",
   "metadata": {},
   "source": [
    "We can verify this worked as we expected by serving this source as a dataframe and inspecting the results."
   ]
  },
  {
   "cell_type": "code",
   "execution_count": 7,
   "id": "a67f4939",
   "metadata": {},
   "outputs": [
    {
     "name": "stdout",
     "output_type": "stream",
     "text": [
      "Applying Run: zealous_mclean\n",
      "Creating provider local-mode \n",
      "Creating source process_lecture_files  zealous_mclean\n"
     ]
    },
    {
     "data": {
      "text/html": [
       "<div>\n",
       "<style scoped>\n",
       "    .dataframe tbody tr th:only-of-type {\n",
       "        vertical-align: middle;\n",
       "    }\n",
       "\n",
       "    .dataframe tbody tr th {\n",
       "        vertical-align: top;\n",
       "    }\n",
       "\n",
       "    .dataframe thead th {\n",
       "        text-align: right;\n",
       "    }\n",
       "</style>\n",
       "<table border=\"1\" class=\"dataframe\">\n",
       "  <thead>\n",
       "    <tr style=\"text-align: right;\">\n",
       "      <th></th>\n",
       "      <th>Lecture</th>\n",
       "      <th>Topic</th>\n",
       "      <th>Section</th>\n",
       "      <th>Text</th>\n",
       "      <th>filename</th>\n",
       "    </tr>\n",
       "  </thead>\n",
       "  <tbody>\n",
       "    <tr>\n",
       "      <th>0</th>\n",
       "      <td>0</td>\n",
       "      <td>Review of Sets</td>\n",
       "      <td>Intro</td>\n",
       "      <td>A set is a well defined collection of objects....</td>\n",
       "      <td>Note_0.csv</td>\n",
       "    </tr>\n",
       "    <tr>\n",
       "      <th>1</th>\n",
       "      <td>0</td>\n",
       "      <td>Review of Sets</td>\n",
       "      <td>Cardinality</td>\n",
       "      <td>We can also talk about the size of a set, or i...</td>\n",
       "      <td>Note_0.csv</td>\n",
       "    </tr>\n",
       "    <tr>\n",
       "      <th>2</th>\n",
       "      <td>0</td>\n",
       "      <td>Review of Sets</td>\n",
       "      <td>Subsets and Proper Subsets</td>\n",
       "      <td>If every element of a set A is also in set B, ...</td>\n",
       "      <td>Note_0.csv</td>\n",
       "    </tr>\n",
       "    <tr>\n",
       "      <th>3</th>\n",
       "      <td>0</td>\n",
       "      <td>Review of Sets</td>\n",
       "      <td>Intersections and Unions</td>\n",
       "      <td>The intersection of a set A with a set B, writ...</td>\n",
       "      <td>Note_0.csv</td>\n",
       "    </tr>\n",
       "    <tr>\n",
       "      <th>4</th>\n",
       "      <td>0</td>\n",
       "      <td>Review of Sets</td>\n",
       "      <td>Complements</td>\n",
       "      <td>If A and B are two sets, then the relative com...</td>\n",
       "      <td>Note_0.csv</td>\n",
       "    </tr>\n",
       "  </tbody>\n",
       "</table>\n",
       "</div>"
      ],
      "text/plain": [
       "   Lecture           Topic                     Section  \\\n",
       "0        0  Review of Sets                       Intro   \n",
       "1        0  Review of Sets                 Cardinality   \n",
       "2        0  Review of Sets  Subsets and Proper Subsets   \n",
       "3        0  Review of Sets    Intersections and Unions   \n",
       "4        0  Review of Sets                 Complements   \n",
       "\n",
       "                                                Text    filename  \n",
       "0  A set is a well defined collection of objects....  Note_0.csv  \n",
       "1  We can also talk about the size of a set, or i...  Note_0.csv  \n",
       "2  If every element of a set A is also in set B, ...  Note_0.csv  \n",
       "3  The intersection of a set A with a set B, writ...  Note_0.csv  \n",
       "4  If A and B are two sets, then the relative com...  Note_0.csv  "
      ]
     },
     "execution_count": 7,
     "metadata": {},
     "output_type": "execute_result"
    }
   ],
   "source": [
    "df = client.dataframe(process_lecture_files)\n",
    "\n",
    "df.head()"
   ]
  },
  {
   "cell_type": "markdown",
   "id": "12710fa4",
   "metadata": {},
   "source": [
    "## Step 3. Entity ID Transformation\n",
    "\n",
    "For our purposes, we'll need a unique identifier for each speakers' comments, so we'll choose `\"Lecture\"`, `\"Section\"` and `\"filename\"` to create a new column, `\"PK\"` (The Primary Key)."
   ]
  },
  {
   "cell_type": "code",
   "execution_count": 8,
   "id": "abbb6305",
   "metadata": {},
   "outputs": [],
   "source": [
    "@local.df_transformation(inputs=[process_lecture_files])\n",
    "def text_primary_key(lectures_df):\n",
    "    lectures_df[\"PK\"] = lectures_df.apply(lambda row: f\"{row['Lecture']}_{row['Section']}_{row['filename']}\", axis=1)\n",
    "    \n",
    "    return lectures_df"
   ]
  },
  {
   "cell_type": "code",
   "execution_count": 9,
   "id": "0b0e1ab6",
   "metadata": {},
   "outputs": [
    {
     "name": "stdout",
     "output_type": "stream",
     "text": [
      "Applying Run: zealous_mclean\n",
      "Creating provider local-mode \n",
      "Creating source text_primary_key  zealous_mclean\n"
     ]
    },
    {
     "data": {
      "text/html": [
       "<div>\n",
       "<style scoped>\n",
       "    .dataframe tbody tr th:only-of-type {\n",
       "        vertical-align: middle;\n",
       "    }\n",
       "\n",
       "    .dataframe tbody tr th {\n",
       "        vertical-align: top;\n",
       "    }\n",
       "\n",
       "    .dataframe thead th {\n",
       "        text-align: right;\n",
       "    }\n",
       "</style>\n",
       "<table border=\"1\" class=\"dataframe\">\n",
       "  <thead>\n",
       "    <tr style=\"text-align: right;\">\n",
       "      <th></th>\n",
       "      <th>Lecture</th>\n",
       "      <th>Topic</th>\n",
       "      <th>Section</th>\n",
       "      <th>Text</th>\n",
       "      <th>filename</th>\n",
       "      <th>PK</th>\n",
       "    </tr>\n",
       "  </thead>\n",
       "  <tbody>\n",
       "    <tr>\n",
       "      <th>0</th>\n",
       "      <td>0</td>\n",
       "      <td>Review of Sets</td>\n",
       "      <td>Intro</td>\n",
       "      <td>A set is a well defined collection of objects....</td>\n",
       "      <td>Note_0.csv</td>\n",
       "      <td>0_Intro_Note_0.csv</td>\n",
       "    </tr>\n",
       "    <tr>\n",
       "      <th>1</th>\n",
       "      <td>0</td>\n",
       "      <td>Review of Sets</td>\n",
       "      <td>Cardinality</td>\n",
       "      <td>We can also talk about the size of a set, or i...</td>\n",
       "      <td>Note_0.csv</td>\n",
       "      <td>0_Cardinality_Note_0.csv</td>\n",
       "    </tr>\n",
       "    <tr>\n",
       "      <th>2</th>\n",
       "      <td>0</td>\n",
       "      <td>Review of Sets</td>\n",
       "      <td>Subsets and Proper Subsets</td>\n",
       "      <td>If every element of a set A is also in set B, ...</td>\n",
       "      <td>Note_0.csv</td>\n",
       "      <td>0_Subsets and Proper Subsets_Note_0.csv</td>\n",
       "    </tr>\n",
       "    <tr>\n",
       "      <th>3</th>\n",
       "      <td>0</td>\n",
       "      <td>Review of Sets</td>\n",
       "      <td>Intersections and Unions</td>\n",
       "      <td>The intersection of a set A with a set B, writ...</td>\n",
       "      <td>Note_0.csv</td>\n",
       "      <td>0_Intersections and Unions_Note_0.csv</td>\n",
       "    </tr>\n",
       "    <tr>\n",
       "      <th>4</th>\n",
       "      <td>0</td>\n",
       "      <td>Review of Sets</td>\n",
       "      <td>Complements</td>\n",
       "      <td>If A and B are two sets, then the relative com...</td>\n",
       "      <td>Note_0.csv</td>\n",
       "      <td>0_Complements_Note_0.csv</td>\n",
       "    </tr>\n",
       "  </tbody>\n",
       "</table>\n",
       "</div>"
      ],
      "text/plain": [
       "   Lecture           Topic                     Section  \\\n",
       "0        0  Review of Sets                       Intro   \n",
       "1        0  Review of Sets                 Cardinality   \n",
       "2        0  Review of Sets  Subsets and Proper Subsets   \n",
       "3        0  Review of Sets    Intersections and Unions   \n",
       "4        0  Review of Sets                 Complements   \n",
       "\n",
       "                                                Text    filename  \\\n",
       "0  A set is a well defined collection of objects....  Note_0.csv   \n",
       "1  We can also talk about the size of a set, or i...  Note_0.csv   \n",
       "2  If every element of a set A is also in set B, ...  Note_0.csv   \n",
       "3  The intersection of a set A with a set B, writ...  Note_0.csv   \n",
       "4  If A and B are two sets, then the relative com...  Note_0.csv   \n",
       "\n",
       "                                        PK  \n",
       "0                       0_Intro_Note_0.csv  \n",
       "1                 0_Cardinality_Note_0.csv  \n",
       "2  0_Subsets and Proper Subsets_Note_0.csv  \n",
       "3    0_Intersections and Unions_Note_0.csv  \n",
       "4                 0_Complements_Note_0.csv  "
      ]
     },
     "execution_count": 9,
     "metadata": {},
     "output_type": "execute_result"
    }
   ],
   "source": [
    "df = client.dataframe(text_primary_key)\n",
    "\n",
    "df.head()"
   ]
  },
  {
   "cell_type": "markdown",
   "id": "573c9e07",
   "metadata": {},
   "source": [
    "## Step 4. Embeddings Transformation\n",
    "\n",
    "We'll use [`all-MiniLM-L6-v2`](https://huggingface.co/sentence-transformers/all-MiniLM-L6-v2) to create embeddings for each speakers' comments. When we register an entity and associate a feature with this entity, this transformation will be materialized and the embeddings will be persisted in a Pinecone index."
   ]
  },
  {
   "cell_type": "code",
   "execution_count": 10,
   "id": "c72eb2e3",
   "metadata": {},
   "outputs": [],
   "source": [
    "@local.df_transformation(inputs=[text_primary_key])\n",
    "def vectorize_comments(lectures_df):\n",
    "    from sentence_transformers import SentenceTransformer\n",
    "\n",
    "    model = SentenceTransformer(\"all-MiniLM-L6-v2\")\n",
    "    embeddings = model.encode(lectures_df[\"Section\"].tolist())\n",
    "    lectures_df[\"Vector\"] = embeddings.tolist()\n",
    "    \n",
    "    return lectures_df"
   ]
  },
  {
   "cell_type": "markdown",
   "id": "04bb6af7",
   "metadata": {},
   "source": [
    "## Step 5. Register Pinecone\n",
    "\n",
    "We'll be using Pinecone for this example, but you can also choose to use Weaviate.\n",
    "\n",
    "This step assumes you have a `.env` file with your Pinecone credentials."
   ]
  },
  {
   "cell_type": "code",
   "execution_count": 11,
   "id": "c6c5471c",
   "metadata": {},
   "outputs": [],
   "source": [
    "import dotenv\n",
    "import os\n",
    "\n",
    "dotenv.load_dotenv(\".env\")\n",
    "\n",
    "pinecone = ff.register_pinecone(\n",
    "    name=\"pinecone\",\n",
    "    project_id=os.getenv(\"PINECONE_PROJECT_ID\", \"\"),\n",
    "    environment=os.getenv(\"PINECONE_ENVIRONMENT\", \"\"),\n",
    "    api_key=os.getenv(\"PINECONE_API_KEY\", \"\"),\n",
    ")"
   ]
  },
  {
   "cell_type": "code",
   "execution_count": 12,
   "id": "191b655b",
   "metadata": {},
   "outputs": [
    {
     "name": "stdout",
     "output_type": "stream",
     "text": [
      "Applying Run: zealous_mclean\n",
      "Creating provider local-mode \n",
      "Creating provider pinecone \n",
      "Creating source vectorize_comments  zealous_mclean\n"
     ]
    }
   ],
   "source": [
    "client.apply()"
   ]
  },
  {
   "cell_type": "markdown",
   "id": "b4f0308b",
   "metadata": {},
   "source": [
    "## Step 6. Register Entity, Features, and Embeddings and write them to Vector DB.\n",
    "\n",
    "We'll now register an entity and a feature, which will kick off the materialization process.\n",
    "\n",
    "**NOTE:**\n",
    "This may take some time to complete. See the progress bar for status."
   ]
  },
  {
   "cell_type": "code",
   "execution_count": 13,
   "id": "eef327c8",
   "metadata": {},
   "outputs": [],
   "source": [
    "@ff.entity\n",
    "class Text:\n",
    "    comment_embeddings = ff.Embedding(\n",
    "        vectorize_comments[[\"PK\", \"Vector\"]],\n",
    "        dims=384,\n",
    "        vector_db=pinecone,\n",
    "        description=\"Embeddings created from speakers' comments in episodes\",\n",
    "        variant=\"v2\"\n",
    "    )\n",
    "    comments = ff.Feature(\n",
    "        text_primary_key[[\"PK\", \"Text\"]],\n",
    "        type=ff.String,\n",
    "        description=\"Speakers' original comments\",\n",
    "        variant=\"v2\"\n",
    "    )"
   ]
  },
  {
   "cell_type": "code",
   "execution_count": 14,
   "id": "d8300b5f",
   "metadata": {},
   "outputs": [
    {
     "name": "stdout",
     "output_type": "stream",
     "text": [
      "Requirement already satisfied: pinecone-client in /home/smiley/anaconda3/lib/python3.9/site-packages (2.2.2)\n",
      "Requirement already satisfied: requests>=2.19.0 in /home/smiley/anaconda3/lib/python3.9/site-packages (from pinecone-client) (2.31.0)\n",
      "Requirement already satisfied: typing-extensions>=3.7.4 in /home/smiley/anaconda3/lib/python3.9/site-packages (from pinecone-client) (4.1.1)\n",
      "Requirement already satisfied: python-dateutil>=2.5.3 in /home/smiley/anaconda3/lib/python3.9/site-packages (from pinecone-client) (2.8.2)\n",
      "Requirement already satisfied: numpy>=1.22.0 in /home/smiley/anaconda3/lib/python3.9/site-packages (from pinecone-client) (1.22.0)\n",
      "Requirement already satisfied: dnspython>=2.0.0 in /home/smiley/anaconda3/lib/python3.9/site-packages (from pinecone-client) (2.3.0)\n",
      "Requirement already satisfied: pyyaml>=5.4 in /home/smiley/anaconda3/lib/python3.9/site-packages (from pinecone-client) (6.0)\n",
      "Requirement already satisfied: tqdm>=4.64.1 in /home/smiley/anaconda3/lib/python3.9/site-packages (from pinecone-client) (4.65.0)\n",
      "Requirement already satisfied: urllib3>=1.21.1 in /home/smiley/anaconda3/lib/python3.9/site-packages (from pinecone-client) (1.26.9)\n",
      "Requirement already satisfied: loguru>=0.5.0 in /home/smiley/anaconda3/lib/python3.9/site-packages (from pinecone-client) (0.7.0)\n",
      "Requirement already satisfied: six>=1.5 in /home/smiley/anaconda3/lib/python3.9/site-packages (from python-dateutil>=2.5.3->pinecone-client) (1.16.0)\n",
      "Requirement already satisfied: charset-normalizer<4,>=2 in /home/smiley/anaconda3/lib/python3.9/site-packages (from requests>=2.19.0->pinecone-client) (2.0.4)\n",
      "Requirement already satisfied: certifi>=2017.4.17 in /home/smiley/anaconda3/lib/python3.9/site-packages (from requests>=2.19.0->pinecone-client) (2021.10.8)\n",
      "Requirement already satisfied: idna<4,>=2.5 in /home/smiley/anaconda3/lib/python3.9/site-packages (from requests>=2.19.0->pinecone-client) (3.3)\n"
     ]
    }
   ],
   "source": [
    "!pip install pinecone-client"
   ]
  },
  {
   "cell_type": "code",
   "execution_count": 15,
   "id": "71a1b0f8",
   "metadata": {
    "scrolled": false
   },
   "outputs": [
    {
     "name": "stdout",
     "output_type": "stream",
     "text": [
      "Applying Run: zealous_mclean\n",
      "Creating provider local-mode \n",
      "Creating entity text \n",
      "Creating feature comment_embeddings  v2\n",
      "Creating feature comments  v2\n"
     ]
    },
    {
     "name": "stderr",
     "output_type": "stream",
     "text": [
      "ResourceWarning: unclosed <ssl.SSLSocket fd=65, family=AddressFamily.AF_INET, type=SocketKind.SOCK_STREAM, proto=6, laddr=('10.142.146.242', 55312), raddr=('35.247.126.212', 443)>\n"
     ]
    }
   ],
   "source": [
    "client.apply()"
   ]
  },
  {
   "cell_type": "markdown",
   "id": "8cdf3e4c",
   "metadata": {},
   "source": [
    "## Step 7. Register On-Demand Features to Retrieve Relevent Context\n",
    "\n",
    "We'll want to query the embeddings we created and then fetch their related docs and we can do so using Featureform's on-demand feature decorator. This creates a feature that's calculated on the client at serving time."
   ]
  },
  {
   "cell_type": "code",
   "execution_count": 22,
   "id": "1c7fb033",
   "metadata": {},
   "outputs": [
    {
     "name": "stdout",
     "output_type": "stream",
     "text": [
      "Please enter the questionWhat is a subset?\n"
     ]
    }
   ],
   "source": [
    "# input_query = \"complement\"\n",
    "input_query = input(\"Please enter the question\")"
   ]
  },
  {
   "cell_type": "code",
   "execution_count": 23,
   "id": "1a9fb88f",
   "metadata": {},
   "outputs": [],
   "source": [
    "@ff.ondemand_feature(variant=\"calhacks\")\n",
    "def relevent_comments(client, params, entity):\n",
    "    from sentence_transformers import SentenceTransformer\n",
    "\n",
    "    model = SentenceTransformer(\"all-MiniLM-L6-v2\")\n",
    "    search_vector = model.encode(params[\"query\"])\n",
    "    res = client.nearest(\"comment_embeddings\", \"v2\", search_vector, k=3)\n",
    "    return res"
   ]
  },
  {
   "cell_type": "code",
   "execution_count": 24,
   "id": "392ebd00",
   "metadata": {},
   "outputs": [
    {
     "name": "stdout",
     "output_type": "stream",
     "text": [
      "Applying Run: zealous_mclean\n",
      "Creating provider local-mode \n",
      "Creating ondemand_feature relevent_comments  calhacks\n"
     ]
    },
    {
     "name": "stderr",
     "output_type": "stream",
     "text": [
      "ResourceWarning: unclosed <ssl.SSLSocket fd=63, family=AddressFamily.AF_INET, type=SocketKind.SOCK_STREAM, proto=6, laddr=('10.142.146.242', 42374), raddr=('35.247.126.212', 443)>\n",
      "ResourceWarning: unclosed <ssl.SSLSocket fd=63, family=AddressFamily.AF_INET, type=SocketKind.SOCK_STREAM, proto=6, laddr=('10.142.146.242', 42392), raddr=('35.247.126.212', 443)>\n"
     ]
    },
    {
     "data": {
      "text/plain": [
       "array([['0_Subsets and Proper Subsets_Note_0.csv',\n",
       "        '0_Complements_Note_0.csv', '0_Significant Sets_Note_0.csv']],\n",
       "      dtype='<U39')"
      ]
     },
     "execution_count": 24,
     "metadata": {},
     "output_type": "execute_result"
    }
   ],
   "source": [
    "client.apply()\n",
    "client.features([(\"relevent_comments\", \"calhacks\")], {}, params={\"query\": input_query})"
   ]
  },
  {
   "cell_type": "code",
   "execution_count": 25,
   "id": "9a1d378c",
   "metadata": {},
   "outputs": [],
   "source": [
    "@ff.ondemand_feature(variant=\"calhack\")\n",
    "def contextualized_prompt(client, params, entity):\n",
    "    pks = client.features([(\"relevent_comments\", \"calhacks\")], {}, params=params)\n",
    "    prompt = \"Use the following snippets from the lecture notes to answer the following question\\n\"\n",
    "    for pk in pks[0]:\n",
    "        prompt += \"```\"\n",
    "        prompt += client.features([(\"comments\", \"v2\")], {\"speaker\": pk})[0]\n",
    "        prompt += \"```\\n\"\n",
    "    prompt += \"Question: \"\n",
    "    prompt += params[\"query\"]\n",
    "    prompt += \"?\"\n",
    "    return prompt\n"
   ]
  },
  {
   "cell_type": "code",
   "execution_count": 26,
   "id": "98708b08",
   "metadata": {},
   "outputs": [
    {
     "name": "stdout",
     "output_type": "stream",
     "text": [
      "Applying Run: zealous_mclean\n",
      "Creating provider local-mode \n",
      "Creating ondemand_feature contextualized_prompt  calhack\n"
     ]
    },
    {
     "name": "stderr",
     "output_type": "stream",
     "text": [
      "ResourceWarning: unclosed <ssl.SSLSocket fd=63, family=AddressFamily.AF_INET, type=SocketKind.SOCK_STREAM, proto=6, laddr=('10.142.146.242', 42400), raddr=('35.247.126.212', 443)>\n",
      "ResourceWarning: unclosed <ssl.SSLSocket fd=63, family=AddressFamily.AF_INET, type=SocketKind.SOCK_STREAM, proto=6, laddr=('10.142.146.242', 42414), raddr=('35.247.126.212', 443)>\n",
      "ResourceWarning: unclosed <ssl.SSLSocket fd=63, family=AddressFamily.AF_INET, type=SocketKind.SOCK_STREAM, proto=6, laddr=('10.142.146.242', 42430), raddr=('35.247.126.212', 443)>\n"
     ]
    },
    {
     "data": {
      "text/plain": [
       "array(['Use the following snippets from the lecture notes to answer the following question\\n```If every element of a set A is also in set B, then we say that A is a subset of B, written A $\\\\subseteq$ B. Equivalently we can write B $superseteq$ A, or B is a superset of A. A proper subset is a set A that is strictly contained in B, written as A $subset$ B, meaning that A excludes at least one element of B. For example, consider the set B = {1,2,3,4,5}. Then {1,2,3} is both a subset and a proper subset of B, while {1,2,3,4,5} is a subset but not a proper subset of B. Here are a few basic properties regarding subsets: -  The empty set, denote by {} or /0, is a proper subset of any nonempty set A: {} $subset$ A. -  The empty set is a subset of every set B: {} $\\\\subseteq$ B. -  Every set A is a subset of itself: A $\\\\subseteq$ A.```\\n```If A and B are two sets, then the relative complement of A in B, or the set difference between B and A, written as B $-$ A or B \\\\ A, is the set of elements in B, but not in A: B \\\\ A = {x $\\\\in$ B | x $\\\\notin$  A}. For example, if B = {1,2,3} and A = {3,4,5}, then B\\\\A = {1,2}. For another example, if R is the set of real numbers and Q is the set of rational numbers, then R \\\\Q is the set of irrational numbers. Here are some important properties of complements: -  A\\\\A = /0. -  A\\\\ /0 = A. -  /0 \\\\A = /0.```\\n```In mathematics, some sets are referred to so commonly that they are denoted by special symbols. These include: -  N denotes the set of all natural numbers: {0,1,2,3,$\\\\cdots$}. -  Z denotes the set of all integer numbers: {$\\\\cdots$,$-$2,$-$1,0,1,2,$\\\\cdots$}. -  Q denotes the set of all rational numbers: { a b | a,b $\\\\in$ Z, b ̸= 0}. -  R denotes the set of all real numbers. -  C denotes the set of all complex numbers.```\\nQuestion: What is a subset??'],\n",
       "      dtype='<U1794')"
      ]
     },
     "execution_count": 26,
     "metadata": {},
     "output_type": "execute_result"
    }
   ],
   "source": [
    "client.apply()\n",
    "client.features([(\"contextualized_prompt\", \"calhack\")], {}, params={\"query\": input_query})"
   ]
  },
  {
   "cell_type": "code",
   "execution_count": null,
   "id": "6b7592d3",
   "metadata": {},
   "outputs": [],
   "source": []
  },
  {
   "cell_type": "markdown",
   "id": "d4a0be59",
   "metadata": {},
   "source": [
    "# Finally we can feed our prompt into OpenAI!"
   ]
  },
  {
   "cell_type": "code",
   "execution_count": 27,
   "id": "70ec45d5",
   "metadata": {},
   "outputs": [
    {
     "name": "stdout",
     "output_type": "stream",
     "text": [
      "Applying Run: zealous_mclean\n",
      "Creating provider local-mode \n"
     ]
    },
    {
     "name": "stderr",
     "output_type": "stream",
     "text": [
      "ResourceWarning: unclosed <ssl.SSLSocket fd=63, family=AddressFamily.AF_INET, type=SocketKind.SOCK_STREAM, proto=6, laddr=('10.142.146.242', 42444), raddr=('35.247.126.212', 443)>\n",
      "ResourceWarning: unclosed <ssl.SSLSocket fd=64, family=AddressFamily.AF_INET, type=SocketKind.SOCK_STREAM, proto=6, laddr=('10.142.146.242', 42458), raddr=('35.247.126.212', 443)>\n",
      "ResourceWarning: unclosed <ssl.SSLSocket fd=66, family=AddressFamily.AF_INET, type=SocketKind.SOCK_STREAM, proto=6, laddr=('10.142.146.242', 42476), raddr=('35.247.126.212', 443)>\n",
      "ResourceWarning: unclosed <ssl.SSLSocket fd=65, family=AddressFamily.AF_INET, type=SocketKind.SOCK_STREAM, proto=6, laddr=('10.142.146.242', 42496), raddr=('35.247.126.212', 443)>\n"
     ]
    },
    {
     "name": "stdout",
     "output_type": "stream",
     "text": [
      "\n",
      "\n",
      "A subset is a set A that is contained within the elements of another set B, written A $\\subseteq$ B. Every set A is a subset of itself, A $\\subseteq$ A. Additionally, the empty set, denote by {} or /0, is a proper subset of any nonempty set A: {} $subset$ A.\n"
     ]
    }
   ],
   "source": [
    "client.apply()\n",
    "# q = \"What should I know about \" + input_query\n",
    "q = input_query\n",
    "prompt = client.features([(\"contextualized_prompt\", \"calhack\")], {}, params={\"query\": q})[0]\n",
    "import openai\n",
    "#openai.organization = os.getenv(\"OPENAI_ORG\", \"\")\n",
    "openai.api_key = os.getenv(\"OPENAI_KEY\", \"\")\n",
    "\n",
    "print(openai.Completion.create(\n",
    "    model=\"text-davinci-003\",\n",
    "    prompt=prompt,\n",
    "    max_tokens=1000, # The max number of tokens to generate\n",
    "    temperature=1.0 # A measure of randomness\n",
    ")[\"choices\"][0][\"text\"])"
   ]
  },
  {
   "cell_type": "code",
   "execution_count": null,
   "id": "965539cd",
   "metadata": {},
   "outputs": [],
   "source": []
  },
  {
   "cell_type": "code",
   "execution_count": null,
   "id": "96daebf9",
   "metadata": {},
   "outputs": [],
   "source": []
  }
 ],
 "metadata": {
  "kernelspec": {
   "display_name": "Python 3 (ipykernel)",
   "language": "python",
   "name": "python3"
  },
  "language_info": {
   "codemirror_mode": {
    "name": "ipython",
    "version": 3
   },
   "file_extension": ".py",
   "mimetype": "text/x-python",
   "name": "python",
   "nbconvert_exporter": "python",
   "pygments_lexer": "ipython3",
   "version": "3.9.12"
  }
 },
 "nbformat": 4,
 "nbformat_minor": 5
}
